{
 "cells": [
  {
   "cell_type": "code",
   "execution_count": 2,
   "metadata": {},
   "outputs": [],
   "source": [
    "import numpy as np\n",
    "import pandas as pd\n",
    "from scipy import stats\n",
    "from matplotlib import pyplot as plt\n",
    "plt.style.use('seaborn-whitegrid')\n",
    "from itertools import combinations"
   ]
  },
  {
   "cell_type": "markdown",
   "metadata": {},
   "source": [
    "### Задача 1\n",
    " \n",
    "Даны значения величины заработной платы заемщиков банка (zp) и значения их поведенческого кредитного скоринга (ks): zp = [35, 45, 190, 200, 40, 70, 54, 150, 120, 110], ks = [401, 574, 874, 919, 459, 739, 653, 902, 746, 832]. Используя математические операции, посчитать коэффициенты линейной регрессии, приняв за X заработную плату (то есть, zp - признак), а за y - значения скорингового балла (то есть, ks - целевая переменная). \n"
   ]
  },
  {
   "cell_type": "code",
   "execution_count": 6,
   "metadata": {},
   "outputs": [],
   "source": [
    "X = np.array([35, 45, 190, 200, 40, 70, 54, 150, 120, 110])\n",
    "y = np.array([ 401, 574, 874, 919, 459, 739, 653, 902, 746, 832])"
   ]
  },
  {
   "cell_type": "code",
   "execution_count": 10,
   "metadata": {},
   "outputs": [
    {
     "data": {
      "text/plain": [
       "(array([ 35,  45, 190, 200,  40,  70,  54, 150, 120, 110]),\n",
       " array([401, 574, 874, 919, 459, 739, 653, 902, 746, 832]))"
      ]
     },
     "execution_count": 10,
     "metadata": {},
     "output_type": "execute_result"
    }
   ],
   "source": [
    "X,y"
   ]
  },
  {
   "cell_type": "code",
   "execution_count": 11,
   "metadata": {},
   "outputs": [
    {
     "data": {
      "text/plain": [
       "10"
      ]
     },
     "execution_count": 11,
     "metadata": {},
     "output_type": "execute_result"
    }
   ],
   "source": [
    "n=len(X)\n",
    "n"
   ]
  },
  {
   "cell_type": "markdown",
   "metadata": {},
   "source": [
    "Произвести расчет без intercept:"
   ]
  },
  {
   "cell_type": "code",
   "execution_count": 13,
   "metadata": {},
   "outputs": [
    {
     "data": {
      "text/plain": [
       "2.620538882402765"
      ]
     },
     "execution_count": 13,
     "metadata": {},
     "output_type": "execute_result"
    }
   ],
   "source": [
    "b=(np.mean(X*y)-np.mean(X)*np.mean(y))/(np.mean(X**2)-np.mean(X)**2)\n",
    "b"
   ]
  },
  {
   "cell_type": "code",
   "execution_count": 15,
   "metadata": {},
   "outputs": [
    {
     "data": {
      "text/plain": [
       "444.1773573243596"
      ]
     },
     "execution_count": 15,
     "metadata": {},
     "output_type": "execute_result"
    }
   ],
   "source": [
    "a=np.mean(y)-b*np.mean(X)\n",
    "a"
   ]
  },
  {
   "cell_type": "code",
   "execution_count": 16,
   "metadata": {},
   "outputs": [],
   "source": [
    "X=X.reshape((10,1))\n",
    "y=y.reshape((10,1))"
   ]
  },
  {
   "cell_type": "code",
   "execution_count": 17,
   "metadata": {},
   "outputs": [
    {
     "data": {
      "text/plain": [
       "(array([[ 35],\n",
       "        [ 45],\n",
       "        [190],\n",
       "        [200],\n",
       "        [ 40],\n",
       "        [ 70],\n",
       "        [ 54],\n",
       "        [150],\n",
       "        [120],\n",
       "        [110]]),\n",
       " array([[401],\n",
       "        [574],\n",
       "        [874],\n",
       "        [919],\n",
       "        [459],\n",
       "        [739],\n",
       "        [653],\n",
       "        [902],\n",
       "        [746],\n",
       "        [832]]))"
      ]
     },
     "execution_count": 17,
     "metadata": {},
     "output_type": "execute_result"
    }
   ],
   "source": [
    "X,y"
   ]
  },
  {
   "cell_type": "code",
   "execution_count": 18,
   "metadata": {},
   "outputs": [
    {
     "data": {
      "text/plain": [
       "array([[5.88982042]])"
      ]
     },
     "execution_count": 18,
     "metadata": {},
     "output_type": "execute_result"
    }
   ],
   "source": [
    "B=np.dot(np.linalg.inv(np.dot(X.T,X)),X.T@y)\n",
    "B"
   ]
  },
  {
   "cell_type": "markdown",
   "metadata": {},
   "source": [
    "Произвести расчет с использованием intercept:"
   ]
  },
  {
   "cell_type": "code",
   "execution_count": 19,
   "metadata": {},
   "outputs": [
    {
     "data": {
      "text/plain": [
       "array([[  1.,  35.],\n",
       "       [  1.,  45.],\n",
       "       [  1., 190.],\n",
       "       [  1., 200.],\n",
       "       [  1.,  40.],\n",
       "       [  1.,  70.],\n",
       "       [  1.,  54.],\n",
       "       [  1., 150.],\n",
       "       [  1., 120.],\n",
       "       [  1., 110.]])"
      ]
     },
     "execution_count": 19,
     "metadata": {},
     "output_type": "execute_result"
    }
   ],
   "source": [
    "X=np.hstack([np.ones((10,1)), X])\n",
    "X"
   ]
  },
  {
   "cell_type": "code",
   "execution_count": 20,
   "metadata": {},
   "outputs": [
    {
     "data": {
      "text/plain": [
       "array([[444.17735732],\n",
       "       [  2.62053888]])"
      ]
     },
     "execution_count": 20,
     "metadata": {},
     "output_type": "execute_result"
    }
   ],
   "source": [
    "B=np.dot(np.linalg.inv(np.dot(X.T,X)),X.T@y)\n",
    "B"
   ]
  },
  {
   "cell_type": "markdown",
   "metadata": {},
   "source": [
    "### Задача 2\n",
    " \n",
    "Посчитать коэффициент линейной регрессии при заработной плате (zp), используя градиентный спуск (без intercept).\n"
   ]
  },
  {
   "cell_type": "code",
   "execution_count": null,
   "metadata": {},
   "outputs": [],
   "source": [
    "X = np.array([35, 45, 190, 200, 40, 70, 54, 150, 120, 110])\n",
    "y = np.array([ 401, 574, 874, 919, 459, 739, 653, 902, 746, 832])"
   ]
  },
  {
   "cell_type": "code",
   "execution_count": 21,
   "metadata": {},
   "outputs": [],
   "source": [
    "def mse(B1,y=y,X=X,n=10):\n",
    "    return np.sum((B1*X-y)**2)/n"
   ]
  },
  {
   "cell_type": "code",
   "execution_count": 22,
   "metadata": {},
   "outputs": [],
   "source": [
    "B1=0.1"
   ]
  },
  {
   "cell_type": "code",
   "execution_count": 23,
   "metadata": {},
   "outputs": [
    {
     "data": {
      "text/plain": [
       "1e-06"
      ]
     },
     "execution_count": 23,
     "metadata": {},
     "output_type": "execute_result"
    }
   ],
   "source": [
    "alpha=1e-6\n",
    "alpha"
   ]
  },
  {
   "cell_type": "code",
   "execution_count": 25,
   "metadata": {},
   "outputs": [
    {
     "name": "stdout",
     "output_type": "stream",
     "text": [
      "i=0, B1=5.940918592497952, mse=582580.1077342933\n",
      "i=5000, B1=5.940918592497952, mse=582580.1077342933\n"
     ]
    }
   ],
   "source": [
    "for i in range(10000):\n",
    "    B1 -= alpha*(2/n)*np.sum((B1*X-y)*X)\n",
    "    if i%5000==0:\n",
    "        print(f'i={i}, B1={B1}, mse={mse(B1)}')"
   ]
  },
  {
   "cell_type": "code",
   "execution_count": 26,
   "metadata": {},
   "outputs": [],
   "source": [
    "B1=0.1\n",
    "B0=0.1"
   ]
  },
  {
   "cell_type": "code",
   "execution_count": 27,
   "metadata": {},
   "outputs": [],
   "source": [
    "def mse(B0,B1,y=y,X=X,n=10):\n",
    "    return np.sum((B0+B1*X-y)**2)/n"
   ]
  },
  {
   "cell_type": "code",
   "execution_count": 29,
   "metadata": {},
   "outputs": [
    {
     "name": "stdout",
     "output_type": "stream",
     "text": [
      "i=0, B1=0.417419441544704, mse=1002630.6724996151\n",
      "i=50000, B1=5.37313621805902, mse=465757.0898866523\n",
      "i=100000, B1=4.872087867466634, mse=374758.05071556417\n",
      "i=150000, B1=4.429421396273944, mse=303729.85377009655\n",
      "i=200000, B1=4.038334179867545, mse=248289.65563966281\n",
      "i=250000, B1=3.6928162317283766, mse=205016.48102843645\n",
      "i=300000, B1=3.387557845675099, mse=171240.1291379211\n",
      "i=350000, B1=3.117867999582535, mse=144876.4071026949\n",
      "i=400000, B1=2.879602266654389, mse=124298.52344599424\n",
      "i=450000, B1=2.6690991264350035, mse=108236.70580041439\n",
      "i=500000, B1=2.483123696826855, mse=95699.84873660261\n",
      "i=550000, B1=2.3188180224227306, mse=85914.35692573691\n",
      "i=600000, B1=2.173657155214153, mse=78276.40991133169\n",
      "i=650000, B1=2.04541035275173, mse=72314.70295551774\n",
      "i=700000, B1=1.932106797474866, mse=67661.36485826437\n",
      "i=750000, B1=1.832005310405386, mse=64029.2582136628\n",
      "i=800000, B1=1.7435675937861697, mse=61194.26140018176\n",
      "i=850000, B1=1.6654345914724134, mse=58981.43900291467\n",
      "i=900000, B1=1.5964056037967476, mse=57254.24730429602\n",
      "i=950000, B1=1.5354198359597167, mse=55906.108760752926\n"
     ]
    }
   ],
   "source": [
    "for i in range(1000000):\n",
    "    y_pred=B0+B1*X\n",
    "    B0 -= alpha*(2/n)*np.sum((y_pred-y))\n",
    "    B1 -= alpha*(2/n)*np.sum((y_pred-y)*X)\n",
    "    if i%50000==0:\n",
    "        print(f'i={i}, B1={B1}, mse={mse(B0,B1)}')"
   ]
  },
  {
   "cell_type": "markdown",
   "metadata": {},
   "source": [
    "### Задача 3\n",
    "В каких случаях для вычисления доверительных интервалов и проверки статистических гипотез используется таблица значений функции Лапласа, а в каких - таблица критических точек распределения Стьюдента? \n",
    "\n",
    "### Задача 4\n",
    "*4. Произвести вычисления как в пункте 2, но с вычислением intercept. Учесть, что изменение коэффициентов должно производиться на каждом шаге одновременно (то есть изменение одного коэффициента не должно влиять на изменение другого во время одной итерации)."
   ]
  },
  {
   "cell_type": "code",
   "execution_count": null,
   "metadata": {},
   "outputs": [],
   "source": []
  }
 ],
 "metadata": {
  "kernelspec": {
   "display_name": "Python 3",
   "language": "python",
   "name": "python3"
  },
  "language_info": {
   "codemirror_mode": {
    "name": "ipython",
    "version": 3
   },
   "file_extension": ".py",
   "mimetype": "text/x-python",
   "name": "python",
   "nbconvert_exporter": "python",
   "pygments_lexer": "ipython3",
   "version": "3.8.3"
  }
 },
 "nbformat": 4,
 "nbformat_minor": 4
}
