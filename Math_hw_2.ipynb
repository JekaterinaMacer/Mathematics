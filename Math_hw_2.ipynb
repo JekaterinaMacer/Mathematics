{
 "cells": [
  {
   "cell_type": "markdown",
   "metadata": {},
   "source": [
    "## Тема “Введение в математический анализ”\n",
    "\n",
    "Прочитать высказывания математической логики, построить их отрицания и установить истинность.\n"
   ]
  },
  {
   "cell_type": "markdown",
   "metadata": {},
   "source": [
    "### $$1)\\,\\,\\, \\forall y\\in[0; 1]:\\,\\,\\,sgn(y)=1$$\n",
    "\n",
    "Решение:\n",
    "\n",
    "#### Для любого $y$  от $0$ до $1$, включая оба конца,  выполняется равенство $sgn(y)=1$\n",
    "\n",
    "\n",
    "#### Высказывание ложно, так как при $y= 0: \\,\\,\\,\\, sgn(y)=0$\n",
    "\n",
    "### $$\\exists y\\in[0; 1]:\\,\\,\\,sgn(y)=1$$\n",
    "\n"
   ]
  },
  {
   "cell_type": "markdown",
   "metadata": {},
   "source": [
    "### $$2)\\,\\,\\, \\forall n\\in\\mathbb{N}\\, > 2:\\,\\,\\exists x,y,z\\in\\mathbb{N}:\\,\\,\\, x^n = y^n+z^n$$\n",
    "\n",
    "Решение:\n",
    "\n",
    "#### Для любого $n$ из множества натуральных чисел больше 2-х, существуют $x,y,z$, для которых выполняется уравнение $x^n = y^n+z^n$.\n",
    "\n",
    "#### Высказывание истинно\n",
    "\n",
    "### $$3^3 = 1^3+2^3$$\n",
    "\n"
   ]
  },
  {
   "cell_type": "markdown",
   "metadata": {},
   "source": [
    "### $$3)\\,\\,\\, \\forall x\\in\\mathbb{R}\\,\\,\\,\\exists X\\in\\mathbb{R}:\\,\\,\\, X>x$$\n",
    "\n",
    "Решение:\n",
    "\n",
    "#### Для любого $x$ из множества действительных чисел найдется $X$, который будет больше его.\n",
    "\n",
    "#### Высказывание истинно\n",
    "\n",
    "### $$\\exists x\\in\\mathbb{R}\\,\\,\\,\\forall X\\in\\mathbb{R}:\\,\\,\\, X\\leq x$$\n"
   ]
  },
  {
   "cell_type": "markdown",
   "metadata": {},
   "source": [
    "не нашла нигде значения этого странного значка\n",
    "\n",
    "пока решила без него, позже могу перерешать, когда станет понятно что же это такое"
   ]
  },
  {
   "cell_type": "markdown",
   "metadata": {},
   "source": [
    "### $$4)\\,\\,\\, \\forall x\\in\\mathbb{C}\\,\\exists y\\in\\mathbb{C}:\\,\\,\\, x>y || x<y$$\n",
    "\n",
    "Решение:\n",
    "\n",
    "#### Для любого $x$ из множества комплексных чисел найдется $y$, что выполняется одно из неравенств x>y или x<y.\n",
    "\n",
    "#### Высказывание истинно\n"
   ]
  },
  {
   "cell_type": "markdown",
   "metadata": {},
   "source": [
    "### $$5)\\,\\,\\, \\forall y\\in\\Bigl[0; \\frac{\\pi}{2}\\Bigr]\\,\\,\\,\\exists \\varepsilon>0:\\,\\,\\, \\sin y<\\sin(y+\\varepsilon)$$\n",
    "\n",
    "Решение:\n",
    "\n",
    "#### Для любого $y$ из отрезка от $0$ до $\\frac{\\pi}{2}$, включая оба конца, существует $\\varepsilon>0$, такая что выполняется неравенство $\\sin y<\\sin(y+\\varepsilon)$\n",
    "\n",
    "\n",
    "#### Высказывание ложно, так как при $x=\\frac{\\pi}{2}: \\,\\,\\,\\, \\sin \\Bigr(\\frac{\\pi}{2}\\Bigl)=1$, ничего большего быть не может.\n",
    "\n",
    "### $$\\exists y\\in\\Bigl[0; \\frac{\\pi}{2}\\Bigr]\\,\\,\\,\\forall \\varepsilon>0:\\,\\,\\, \\sin y\\geq\\sin(y+\\varepsilon)$$\n",
    "\n"
   ]
  },
  {
   "cell_type": "markdown",
   "metadata": {},
   "source": [
    "### $$6)\\,\\,\\, \\forall y\\in\\Bigl[0; \\pi\\Bigr)\\,\\,\\,\\exists \\varepsilon>0:\\,\\,\\, \\cos y>\\cos(y+\\varepsilon)$$\n",
    "\n",
    "Решение:\n",
    "\n",
    "#### Для любого $y$ из отрезка от $0$ до $\\pi$, включая $0$, существует $\\varepsilon>0$, такая что выполняется неравенство $\\cos y>\\cos(y+\\varepsilon)$\n",
    "\n",
    "#### Высказывание истинно, так как плохая точка $x=\\pi$ в отрезок не входит.\n",
    "\n",
    "### $$\\exists y\\in\\Bigl[0; \\pi\\Bigr)\\,\\,\\,\\forall \\varepsilon>0:\\,\\,\\, \\cos y\\leq\\cos(y+\\varepsilon)$$"
   ]
  },
  {
   "cell_type": "markdown",
   "metadata": {},
   "source": [
    "### $$7)\\,\\,\\exists x:\\,\\,\\,x \\in\\mathbb{\\{N, Z, Q, R, C} \\}$$\n",
    "\n",
    "Решение:\n",
    "\n",
    "#### Существует $x$ , который одновременно принадлежит множествам натуральных, целых,  рациональных, вещественных и комлексных чисел .\n",
    "\n",
    "#### Высказывание истинно\n"
   ]
  },
  {
   "cell_type": "markdown",
   "metadata": {},
   "source": [
    "## Тема “Множество”\n",
    "Даны три множества a,b и с. Необходимо выполнить все изученные виды бинарных операций над всеми комбинациями множеств.\n",
    "\n",
    "\n",
    "\n",
    "Бинарными называются операции, производимые над двумя множествами"
   ]
  },
  {
   "cell_type": "code",
   "execution_count": 1,
   "metadata": {
    "id": "M2yvokrgLwIR"
   },
   "outputs": [],
   "source": [
    "#Зададим множества А B C \n",
    "A = {1, 2, 3, 4, 5}\n",
    "B = {4, 5, 6, 7, 8}\n",
    "C = {}"
   ]
  },
  {
   "cell_type": "code",
   "execution_count": 2,
   "metadata": {
    "id": "VCiUpVqhLwIa",
    "outputId": "b46b18cd-8601-4739-f3da-d764bb1ef828"
   },
   "outputs": [
    {
     "name": "stdout",
     "output_type": "stream",
     "text": [
      "{1, 2, 3, 4, 5, 6, 7, 8}\n",
      "{4, 5, 6, 7, 8}\n"
     ]
    }
   ],
   "source": [
    "# Объединение \n",
    "print(A | B)\n",
    "print(B.union(C))"
   ]
  },
  {
   "cell_type": "code",
   "execution_count": 3,
   "metadata": {
    "id": "wkslKVBHLwIs",
    "outputId": "bfb7c7d6-ace9-421c-ccd5-aece80c12439"
   },
   "outputs": [
    {
     "name": "stdout",
     "output_type": "stream",
     "text": [
      "{4, 5}\n",
      "set()\n"
     ]
    }
   ],
   "source": [
    "# Пересечение\n",
    "print(A & B)\n",
    "print(B.intersection(C))"
   ]
  },
  {
   "cell_type": "code",
   "execution_count": 4,
   "metadata": {
    "id": "nOtAL6aTLwI1",
    "outputId": "de14eba2-3a56-49bd-912b-2fb4f8c870e5"
   },
   "outputs": [
    {
     "name": "stdout",
     "output_type": "stream",
     "text": [
      "{1, 2, 3}\n",
      "{8, 6, 7}\n",
      "{1, 2, 3, 4, 5}\n"
     ]
    }
   ],
   "source": [
    "# Разность \n",
    "print(A - B)\n",
    "print(B.difference(A))\n",
    "print(A.difference(C))"
   ]
  },
  {
   "cell_type": "code",
   "execution_count": 5,
   "metadata": {
    "id": "HqPrnO2lLwI8",
    "outputId": "69d8d6e1-2aaa-4e87-a8e2-1d5af413d131"
   },
   "outputs": [
    {
     "name": "stdout",
     "output_type": "stream",
     "text": [
      "{1, 2, 3, 6, 7, 8}\n",
      "{1, 2, 3, 6, 7, 8}\n",
      "{1, 2, 3, 4, 5}\n"
     ]
    }
   ],
   "source": [
    "#Симметричная разность \n",
    "print(A ^ B)\n",
    "print(B.symmetric_difference(A))\n",
    "print(A.symmetric_difference(C))"
   ]
  },
  {
   "cell_type": "code",
   "execution_count": 6,
   "metadata": {
    "id": "dmKo-ypcLwJB",
    "outputId": "1a6eb9cd-84b8-4467-8df9-19fe1132938f"
   },
   "outputs": [
    {
     "name": "stdout",
     "output_type": "stream",
     "text": [
      "{4, 5, 6, 7, 8}\n",
      "{1, 2, 3, 4, 5}\n"
     ]
    }
   ],
   "source": [
    "#С помощью симметричной разности можно обменять значения множеств\n",
    "A = A ^ B\n",
    "B = A ^ B\n",
    "A = A ^ B\n",
    "\n",
    "#A, B = B, A\n",
    "\n",
    "print(A)\n",
    "print(B)"
   ]
  },
  {
   "cell_type": "code",
   "execution_count": null,
   "metadata": {},
   "outputs": [],
   "source": []
  }
 ],
 "metadata": {
  "kernelspec": {
   "display_name": "Python 3",
   "language": "python",
   "name": "python3"
  },
  "language_info": {
   "codemirror_mode": {
    "name": "ipython",
    "version": 3
   },
   "file_extension": ".py",
   "mimetype": "text/x-python",
   "name": "python",
   "nbconvert_exporter": "python",
   "pygments_lexer": "ipython3",
   "version": "3.8.3"
  }
 },
 "nbformat": 4,
 "nbformat_minor": 4
}
