{
  "nbformat": 4,
  "nbformat_minor": 0,
  "metadata": {
    "colab": {
      "name": "Копия 4.2.ipynb",
      "provenance": [],
      "collapsed_sections": []
    },
    "kernelspec": {
      "display_name": "Python 3",
      "language": "python",
      "name": "python3"
    },
    "language_info": {
      "codemirror_mode": {
        "name": "ipython",
        "version": 3
      },
      "file_extension": ".py",
      "mimetype": "text/x-python",
      "name": "python",
      "nbconvert_exporter": "python",
      "pygments_lexer": "ipython3",
      "version": "3.6.0"
    }
  },
  "cells": [
    {
      "cell_type": "code",
      "metadata": {
        "id": "AD4Q6aR2TDIz"
      },
      "source": [
        "%matplotlib inline\n",
        "import numpy as np\n",
        "import matplotlib.pyplot as plt\n",
        "import matplotlib.mlab as mlab"
      ],
      "execution_count": null,
      "outputs": []
    },
    {
      "cell_type": "code",
      "metadata": {
        "colab": {
          "base_uri": "https://localhost:8080/"
        },
        "id": "xwlrBldyTDJF",
        "outputId": "d2fb79a9-b51f-4e2b-d5eb-316bf8dd858a"
      },
      "source": [
        "k,m,l = 0, 0, 0\n",
        "n = 100\n",
        "for i in range(0, n):\n",
        "    x = np.random.uniform(0, 10)\n",
        "    l=l+1\n",
        "    if x<5:\n",
        "        k = k + 1 \n",
        "    else:\n",
        "        m = m + 1\n",
        "if k+m==l:\n",
        "  print(True)\n",
        "else:\n",
        "  print(False)\n",
        "print(k,m,l)"
      ],
      "execution_count": null,
      "outputs": [
        {
          "output_type": "stream",
          "text": [
            "True\n",
            "55 45 100\n"
          ],
          "name": "stdout"
        }
      ]
    },
    {
      "cell_type": "code",
      "metadata": {
        "colab": {
          "base_uri": "https://localhost:8080/",
          "height": 312
        },
        "id": "WAD4tW03TDJK",
        "outputId": "9bde4366-4827-420b-9fae-8a39a1594acb"
      },
      "source": [
        "allsums=[]\n",
        "for i in range(11):\n",
        "  x=np.random.rand(10)\n",
        "  allsums.append(sum(x))\n",
        "  i+=1\n",
        "num_bins = 10\n",
        "n, bins, patches = plt.hist(allsums, num_bins)\n",
        "plt.xlabel('summa')\n",
        "plt.ylabel('Probability')\n",
        "plt.title('Histogram')\n"
      ],
      "execution_count": null,
      "outputs": [
        {
          "output_type": "execute_result",
          "data": {
            "text/plain": [
              "Text(0.5, 1.0, 'Histogram')"
            ]
          },
          "metadata": {
            "tags": []
          },
          "execution_count": 5
        },
        {
          "output_type": "display_data",
          "data": {
            "image/png": "[encoded data removed]",
            "text/plain": [
              "<Figure size 432x288 with 1 Axes>"
            ]
          },
          "metadata": {
            "tags": [],
            "needs_background": "light"
          }
        }
      ]
    }
  ]
}