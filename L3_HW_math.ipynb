{
 "cells": [
  {
   "cell_type": "markdown",
   "metadata": {},
   "source": [
    "### Задача 1\n",
    " \n",
    "Даны значения зарплат из выборки выпускников:\n",
    "100, 80, 75, 77, 89, 33, 45, 25, 65, 17, 30, 24, 57, 55, 70, 75, 65, 84, 90, 150.\n",
    "Без использования статистических функций вроде mean, std, var, посчитать среднее арифметическое, среднее квадратичное отклонение, смещенную и несмещенную оценки дисперсий для данной выборки.\n",
    "Можно затем посчитать те же значения с использованием статистических функций, чтобы проверить себя."
   ]
  },
  {
   "cell_type": "code",
   "execution_count": 5,
   "metadata": {},
   "outputs": [],
   "source": [
    "import numpy as np\n",
    "import pandas as pd"
   ]
  },
  {
   "cell_type": "markdown",
   "metadata": {},
   "source": [
    "Пусть дана выборка $x = (x_1, x_2, \\dots, x_m)$ из значений одномерной случайной величины. Одной из наиболее естественных статистик таких выборок является __среднее арифметическое__ (или __выборочное среднее__):\n",
    "\n",
    "$$\\overline{x} = \\dfrac{1}{m} \\displaystyle\\sum_{i = 1}^m x_i.$$\n",
    "\n",
    "Выборочное среднее является оценкой для математического ожидания."
   ]
  },
  {
   "cell_type": "code",
   "execution_count": 3,
   "metadata": {},
   "outputs": [
    {
     "name": "stdout",
     "output_type": "stream",
     "text": [
      "20\n"
     ]
    }
   ],
   "source": [
    "x = [100, 80, 75, 77, 89, 33, 45, 25, 65, 17, 30, 24, 57, 55, 70, 75, 65, 84, 90, 150]\n",
    "print(len(x))"
   ]
  },
  {
   "cell_type": "code",
   "execution_count": 31,
   "metadata": {},
   "outputs": [
    {
     "name": "stdout",
     "output_type": "stream",
     "text": [
      "среднее арифметическое: 65.3\n"
     ]
    }
   ],
   "source": [
    "mean_salary = sum(x) / len(x)\n",
    "print(f'среднее арифметическое зарплат из выборки выпускников: {mean_salary}')"
   ]
  },
  {
   "cell_type": "code",
   "execution_count": 35,
   "metadata": {},
   "outputs": [
    {
     "data": {
      "text/html": [
       "<div>\n",
       "<style scoped>\n",
       "    .dataframe tbody tr th:only-of-type {\n",
       "        vertical-align: middle;\n",
       "    }\n",
       "\n",
       "    .dataframe tbody tr th {\n",
       "        vertical-align: top;\n",
       "    }\n",
       "\n",
       "    .dataframe thead th {\n",
       "        text-align: right;\n",
       "    }\n",
       "</style>\n",
       "<table border=\"1\" class=\"dataframe\">\n",
       "  <thead>\n",
       "    <tr style=\"text-align: right;\">\n",
       "      <th></th>\n",
       "      <th>salary</th>\n",
       "    </tr>\n",
       "  </thead>\n",
       "  <tbody>\n",
       "    <tr>\n",
       "      <th>0</th>\n",
       "      <td>100</td>\n",
       "    </tr>\n",
       "    <tr>\n",
       "      <th>1</th>\n",
       "      <td>80</td>\n",
       "    </tr>\n",
       "    <tr>\n",
       "      <th>2</th>\n",
       "      <td>75</td>\n",
       "    </tr>\n",
       "    <tr>\n",
       "      <th>3</th>\n",
       "      <td>77</td>\n",
       "    </tr>\n",
       "    <tr>\n",
       "      <th>4</th>\n",
       "      <td>89</td>\n",
       "    </tr>\n",
       "    <tr>\n",
       "      <th>5</th>\n",
       "      <td>33</td>\n",
       "    </tr>\n",
       "    <tr>\n",
       "      <th>6</th>\n",
       "      <td>45</td>\n",
       "    </tr>\n",
       "    <tr>\n",
       "      <th>7</th>\n",
       "      <td>25</td>\n",
       "    </tr>\n",
       "    <tr>\n",
       "      <th>8</th>\n",
       "      <td>65</td>\n",
       "    </tr>\n",
       "    <tr>\n",
       "      <th>9</th>\n",
       "      <td>17</td>\n",
       "    </tr>\n",
       "    <tr>\n",
       "      <th>10</th>\n",
       "      <td>30</td>\n",
       "    </tr>\n",
       "    <tr>\n",
       "      <th>11</th>\n",
       "      <td>24</td>\n",
       "    </tr>\n",
       "    <tr>\n",
       "      <th>12</th>\n",
       "      <td>57</td>\n",
       "    </tr>\n",
       "    <tr>\n",
       "      <th>13</th>\n",
       "      <td>55</td>\n",
       "    </tr>\n",
       "    <tr>\n",
       "      <th>14</th>\n",
       "      <td>70</td>\n",
       "    </tr>\n",
       "    <tr>\n",
       "      <th>15</th>\n",
       "      <td>75</td>\n",
       "    </tr>\n",
       "    <tr>\n",
       "      <th>16</th>\n",
       "      <td>65</td>\n",
       "    </tr>\n",
       "    <tr>\n",
       "      <th>17</th>\n",
       "      <td>84</td>\n",
       "    </tr>\n",
       "    <tr>\n",
       "      <th>18</th>\n",
       "      <td>90</td>\n",
       "    </tr>\n",
       "    <tr>\n",
       "      <th>19</th>\n",
       "      <td>150</td>\n",
       "    </tr>\n",
       "  </tbody>\n",
       "</table>\n",
       "</div>"
      ],
      "text/plain": [
       "    salary\n",
       "0      100\n",
       "1       80\n",
       "2       75\n",
       "3       77\n",
       "4       89\n",
       "5       33\n",
       "6       45\n",
       "7       25\n",
       "8       65\n",
       "9       17\n",
       "10      30\n",
       "11      24\n",
       "12      57\n",
       "13      55\n",
       "14      70\n",
       "15      75\n",
       "16      65\n",
       "17      84\n",
       "18      90\n",
       "19     150"
      ]
     },
     "execution_count": 35,
     "metadata": {},
     "output_type": "execute_result"
    }
   ],
   "source": [
    "df = pd.DataFrame([100, 80, 75, 77, 89, 33, 45, 25, 65, 17, 30, 24, 57, 55, 70, 75, 65, 84, 90, 150], columns = ['salary'])\n",
    "df"
   ]
  },
  {
   "cell_type": "markdown",
   "metadata": {},
   "source": [
    "Проверка:"
   ]
  },
  {
   "cell_type": "code",
   "execution_count": 36,
   "metadata": {},
   "outputs": [
    {
     "data": {
      "text/plain": [
       "65.3"
      ]
     },
     "execution_count": 36,
     "metadata": {},
     "output_type": "execute_result"
    }
   ],
   "source": [
    "df['salary'].mean()"
   ]
  },
  {
   "cell_type": "markdown",
   "metadata": {},
   "source": [
    "Другой важной статистикой выборки является __среднее квадратическое отклонение__:\n",
    "\n",
    "$$\\sigma = \\sqrt{\\dfrac{1}{m} \\displaystyle\\sum_{i = 1}^m (x_i - \\overline{x})^2}.$$\n",
    "\n",
    "Оно показывает уровень «разброса» элементов выборки относительно выборочного среднего.\n"
   ]
  },
  {
   "cell_type": "code",
   "execution_count": 37,
   "metadata": {},
   "outputs": [
    {
     "data": {
      "text/plain": [
       "0     1204.09\n",
       "1      216.09\n",
       "2       94.09\n",
       "3      136.89\n",
       "4      561.69\n",
       "5     1043.29\n",
       "6      412.09\n",
       "7     1624.09\n",
       "8        0.09\n",
       "9     2332.89\n",
       "10    1246.09\n",
       "11    1705.69\n",
       "12      68.89\n",
       "13     106.09\n",
       "14      22.09\n",
       "15      94.09\n",
       "16       0.09\n",
       "17     349.69\n",
       "18     610.09\n",
       "19    7174.09\n",
       "Name: salary, dtype: float64"
      ]
     },
     "execution_count": 37,
     "metadata": {},
     "output_type": "execute_result"
    }
   ],
   "source": [
    " (df['salary'] - df['salary'].mean()) ** 2"
   ]
  },
  {
   "cell_type": "code",
   "execution_count": 38,
   "metadata": {},
   "outputs": [
    {
     "name": "stdout",
     "output_type": "stream",
     "text": [
      "среднее квадратическое отклонение зарплат из выборки выпускников: 30.823854398825596\n"
     ]
    }
   ],
   "source": [
    "salary_std = np.sqrt(((df['salary'] - df['salary'].mean()) ** 2).sum() / df['salary'].count())\n",
    "print(f'среднее квадратическое отклонение зарплат из выборки выпускников: {salary_std}')"
   ]
  },
  {
   "cell_type": "markdown",
   "metadata": {},
   "source": [
    "Проверка:"
   ]
  },
  {
   "cell_type": "code",
   "execution_count": 39,
   "metadata": {},
   "outputs": [
    {
     "data": {
      "text/plain": [
       "30.823854398825596"
      ]
     },
     "execution_count": 39,
     "metadata": {},
     "output_type": "execute_result"
    }
   ],
   "source": [
    "df['salary'].std(ddof=0)"
   ]
  },
  {
   "cell_type": "markdown",
   "metadata": {},
   "source": [
    "Дисперсию случайной величины можно оценивать средним квадратическим отклонением выборки, возведённым в квадрат:\n",
    "\n",
    "$$\\sigma^2 = \\dfrac{1}{m} \\displaystyle\\sum_{i = 1}^m (x_i - \\overline{x})^2.$$\n",
    "\n",
    "\n",
    "Такая оценка дисперсии называется __смещённой выборочной дисперсией__."
   ]
  },
  {
   "cell_type": "code",
   "execution_count": 40,
   "metadata": {},
   "outputs": [
    {
     "name": "stdout",
     "output_type": "stream",
     "text": [
      "смещённая выборочная дисперсия зарплат из выборки выпускников: 950.11\n"
     ]
    }
   ],
   "source": [
    "salary_variance = ((df['salary'] - df['salary'].mean()) ** 2).sum() / df['salary'].count()\n",
    "print(f'смещённая выборочная дисперсия зарплат из выборки выпускников: {salary_variance}')"
   ]
  },
  {
   "cell_type": "markdown",
   "metadata": {},
   "source": [
    "Проверка:"
   ]
  },
  {
   "cell_type": "markdown",
   "metadata": {},
   "source": [
    "Оценки дисперсии можно посчитать с помощью метода `.var`. Смещённая:"
   ]
  },
  {
   "cell_type": "code",
   "execution_count": 41,
   "metadata": {},
   "outputs": [
    {
     "data": {
      "text/plain": [
       "950.11"
      ]
     },
     "execution_count": 41,
     "metadata": {},
     "output_type": "execute_result"
    }
   ],
   "source": [
    "df['salary'].var(ddof=0)"
   ]
  },
  {
   "cell_type": "markdown",
   "metadata": {},
   "source": [
    "\n",
    "$$\\sigma_{\\text{unbiased}}^2 = \\dfrac{1}{m - 1} \\displaystyle\\sum_{i = 1}^m (x_i - \\overline{x})^2.$$\n",
    "\n",
    "Почему несмещённая?\n",
    "\n",
    "На самом деле каждый объект из выборки — это тоже случайная величина (поскольку выбирается _случайным_ образом). В таком случае и любая статистика (т.е. функция от выборки) является случайной величиной.\n",
    "\n",
    "Оценка некоторого параметра случайной величины называется __несмещённой__, если математическое ожидание этой оценки равняется реальному значению этого параметра.\n",
    "\n",
    "Например, выборочное среднее является несмещённой оценкой математического ожидания.\n",
    "\n",
    "Оказывается, среднее квадратическое отклонение, возведённое в квадрат, не является несмещённой оценкой реальной дисперсии: если берётся выборка $x = (x_1, x_2, \\dots, x_m)$ из значений случайной величины $X$, то\n",
    "\n",
    "$$M(\\sigma^2) = \\dfrac{m - 1}{m} \\cdot D(X).$$\n",
    "\n",
    "Поэтому для оценки дисперсии используется именно несмещённая выборочная дисперсия."
   ]
  },
  {
   "cell_type": "code",
   "execution_count": 42,
   "metadata": {},
   "outputs": [
    {
     "name": "stdout",
     "output_type": "stream",
     "text": [
      "несмещённая выборочная дисперсия зарплат из выборки выпускников: 1000.1157894736842\n"
     ]
    }
   ],
   "source": [
    "salary_var_nesm = ((df['salary'] - df['salary'].mean())**2).sum() / (df['salary'].count() - 1)\n",
    "print(f'несмещённая выборочная дисперсия зарплат из выборки выпускников: {salary_var_nesm}')"
   ]
  },
  {
   "cell_type": "markdown",
   "metadata": {},
   "source": [
    "Проверка (несмещённая):"
   ]
  },
  {
   "cell_type": "code",
   "execution_count": 43,
   "metadata": {},
   "outputs": [
    {
     "data": {
      "text/plain": [
       "1000.1157894736842"
      ]
     },
     "execution_count": 43,
     "metadata": {},
     "output_type": "execute_result"
    }
   ],
   "source": [
    "df['salary'].var(ddof=1)"
   ]
  },
  {
   "cell_type": "markdown",
   "metadata": {},
   "source": [
    "### Задача 2\n",
    " \n",
    "Для выборки из задачи 1 найти первый и третий квартили, интерквартильное расстояние. Найти выборсы в выборке, используя для этого \"усы\" из boxplot. В этой задаче можно использовать статистические функции.\n"
   ]
  },
  {
   "cell_type": "markdown",
   "metadata": {},
   "source": [
    "Понятие __квантиля__ обобщает понятие медианы. Если $\\alpha \\in (0, 1)$, то квантилем порядка $\\alpha$ называется такое значение $X_\\alpha$, что\n",
    "\n",
    "$$P(X \\leq X_\\alpha) \\geq \\alpha, \\text{ } P(X \\geq X_\\alpha) \\geq 1 - \\alpha.$$\n",
    "\n",
    "На практике это означает, что ровно доля $\\alpha$ от всех значений выборки оказываются меньше, либо равны $X_\\alpha$ и, наоборот, доля $1 - \\alpha$ от значений больше, либо равны $X_\\alpha$.\n",
    "\n",
    "В частности, медиана является квантилем порядка $0.5$. Кроме того, часто используют\n",
    "\n",
    "* __первый квартиль__ — квантиль порядка $0.25$ (т.е. значение, которое не превышают $25 \\%$ значений из выборки),\n",
    "* __второй квартиль__ — то же, что и медиана,\n",
    "* __третий квартиль__ — квантиль порядка $0.75$.\n",
    "\n",
    "Квантили можно посчитать с помощью метода `.quantile`:\n"
   ]
  },
  {
   "cell_type": "code",
   "execution_count": 47,
   "metadata": {},
   "outputs": [
    {
     "data": {
      "text/plain": [
       "0.25    42.0\n",
       "0.50    67.5\n",
       "0.75    81.0\n",
       "Name: salary, dtype: float64"
      ]
     },
     "execution_count": 47,
     "metadata": {},
     "output_type": "execute_result"
    }
   ],
   "source": [
    "df['salary'].quantile([0.25, 0.5, 0.75])"
   ]
  },
  {
   "cell_type": "code",
   "execution_count": 55,
   "metadata": {},
   "outputs": [
    {
     "name": "stdout",
     "output_type": "stream",
     "text": [
      "первый квартиль:  42.0\n",
      "третий квартиль:  81.0\n"
     ]
    }
   ],
   "source": [
    "print('первый квартиль: ', df['salary'].quantile(0.25))\n",
    "print('третий квартиль: ', df['salary'].quantile(0.75))"
   ]
  },
  {
   "cell_type": "markdown",
   "metadata": {},
   "source": [
    "__Интерквартильный размах__ — это отрезок между первым и третьим квартилями. Это отрезок, в который попадают $50 \\%$ значений выборки.\n",
    "\n",
    "Интерквартильный размах используется для измерения разброса значений выборки вокруг среднего. Иногда его использование оказывается более предпочтительным, чем использование среднего квадратического отклонения, поскольку не учитывает выбросы в данных.\n",
    "\n",
    "Например, в наших данных интерквартильный размах — это отрезок от $180$ до $188$. _Интерквартильное расстояние_ в этом случае равно $8$."
   ]
  },
  {
   "cell_type": "code",
   "execution_count": 57,
   "metadata": {},
   "outputs": [
    {
     "name": "stdout",
     "output_type": "stream",
     "text": [
      "Интерквартильный размах:  39.0\n"
     ]
    }
   ],
   "source": [
    "print('Интерквартильный размах: ', df['salary'].quantile(0.75) - df['salary'].quantile(0.25))"
   ]
  },
  {
   "cell_type": "markdown",
   "metadata": {},
   "source": [
    "Один из способов визуализировать одномерные данные — __boxplot__ или __ящик с усами__. В самом ящике отмечены квартили $Q1$, $Q2$ (медиана), $Q3$. «Усы» здесь — границы отрезка\n",
    "$\\left[ Q1 - 1.5 \\times IQR, \\text{ } Q3 + 1.5 \\times IQR \\right],$\n",
    "где $IQR$ — интерквартильное расстояние."
   ]
  },
  {
   "cell_type": "markdown",
   "metadata": {},
   "source": [
    "Построим boxplot зарплат из выборки выпускников"
   ]
  },
  {
   "cell_type": "code",
   "execution_count": 45,
   "metadata": {},
   "outputs": [
    {
     "data": {
      "text/plain": [
       "<matplotlib.axes._subplots.AxesSubplot at 0x7f99ffaee880>"
      ]
     },
     "execution_count": 45,
     "metadata": {},
     "output_type": "execute_result"
    },
    {
     "data": {
      "image/png": "[encoded data removed]",
      "text/plain": [
       "<Figure size 432x288 with 1 Axes>"
      ]
     },
     "metadata": {
      "needs_background": "light"
     },
     "output_type": "display_data"
    }
   ],
   "source": [
    "df[['salary']].boxplot()"
   ]
  },
  {
   "cell_type": "markdown",
   "metadata": {},
   "source": [
    "Всё, что выходит за границы этого отрезка, считается выбросами (отмечены кружками). Посчитаем, сколько значений роста оказалось за пределами «усов»."
   ]
  },
  {
   "cell_type": "code",
   "execution_count": 62,
   "metadata": {},
   "outputs": [
    {
     "name": "stdout",
     "output_type": "stream",
     "text": [
      "Усы:  (-16.5, 139.5)\n"
     ]
    }
   ],
   "source": [
    "q1 = df['salary'].quantile(0.25)\n",
    "q3 = df['salary'].quantile(0.75)\n",
    "iqr = q3 - q1\n",
    "\n",
    "boxplot_range = (q1 - 1.5 * iqr, q3 + 1.5 * iqr)\n",
    "print('Усы: ', boxplot_range)"
   ]
  },
  {
   "cell_type": "code",
   "execution_count": 63,
   "metadata": {},
   "outputs": [
    {
     "name": "stdout",
     "output_type": "stream",
     "text": [
      "1 значений роста оказалось за пределами «усов»\n"
     ]
    }
   ],
   "source": [
    "outliers = df.loc[(df['salary'] < boxplot_range[0]) | (df['salary'] > boxplot_range[1])]\n",
    "\n",
    "print(outliers.shape[0], 'значений роста оказалось за пределами «усов»')"
   ]
  },
  {
   "cell_type": "markdown",
   "metadata": {},
   "source": [
    "Доля выбросов:"
   ]
  },
  {
   "cell_type": "code",
   "execution_count": 60,
   "metadata": {},
   "outputs": [
    {
     "data": {
      "text/plain": [
       "0.05"
      ]
     },
     "execution_count": 60,
     "metadata": {},
     "output_type": "execute_result"
    }
   ],
   "source": [
    "outliers.shape[0] / df.shape[0]"
   ]
  },
  {
   "cell_type": "markdown",
   "metadata": {},
   "source": [
    "### Задача 3\n",
    "\n",
    "В университет на факультеты A и B поступило равное количество студентов, а на факультет C студентов поступило столько же, сколько на A и B вместе. Вероятность того, что студент факультета A сдаст первую сессию, равна 0.8. Для студента факультета B эта вероятность равна 0.7, а для студента факультета C - 0.9. Студент сдал первую сессию. Какова вероятность, что он учится: a) на факультете A? б) на факультете B? в) на факультете C?\n",
    "Замечание: да, эта задача не на тему описательных статистик, но тема важная, и её стоит иногда освежать в памяти."
   ]
  },
  {
   "cell_type": "markdown",
   "metadata": {},
   "source": [
    "Какова вероятность, что он учится: \n",
    "\n",
    "    a) на факультете A? \n",
    "    \n",
    "    б) на факультете B? \n",
    "    \n",
    "    в) на факультете C?"
   ]
  },
  {
   "cell_type": "markdown",
   "metadata": {},
   "source": [
    "Введем полную группу гипотез:"
   ]
  },
  {
   "cell_type": "markdown",
   "metadata": {},
   "source": [
    "A = (Студент - факультета A)\n",
    "\n",
    "B = (Студент - факультета B)\n",
    "\n",
    "C = (Студент - факультета C)"
   ]
  },
  {
   "cell_type": "markdown",
   "metadata": {},
   "source": [
    "Найдем вероятности гипотез по классическому определению вероятности:\n",
    "    \n",
    "Пусть студентов с факультета A - x , тогда студентов с факультета B - x , а студентов с факультета C - 2x . \n",
    "\n",
    "Получаем вероятность что сдавать экзамен будет студент A, B, C:"
   ]
  },
  {
   "cell_type": "markdown",
   "metadata": {},
   "source": [
    "P(A) = x / (x + x + 2x) = 0.25\n",
    "\n",
    "P(B) = x / (x + x + 2x) = 0.25\n",
    "\n",
    "P(C) = 2x / (x + x + 2x) = 0.5"
   ]
  },
  {
   "cell_type": "markdown",
   "metadata": {},
   "source": [
    "Введем событие V = (Студент сдал первую сессию)\n",
    "\n",
    "Нам известно:\n",
    "\n",
    "P(V|A) = 0.8\n",
    "\n",
    "P(V|B) = 0.7\n",
    "\n",
    "P(V|C) = 0.9\n"
   ]
  },
  {
   "cell_type": "markdown",
   "metadata": {},
   "source": [
    "Тогда вероятность события V найдем по формуле полной вероятности \n",
    "\n",
    "P(V) = P(V|A)*P(A) + P(V|B)*P(B) + P(V|C)*P(C)"
   ]
  },
  {
   "cell_type": "code",
   "execution_count": 66,
   "metadata": {},
   "outputs": [
    {
     "data": {
      "text/plain": [
       "0.825"
      ]
     },
     "execution_count": 66,
     "metadata": {},
     "output_type": "execute_result"
    }
   ],
   "source": [
    "0.8*0.25+0.7*0.25+0.9*0.5"
   ]
  },
  {
   "cell_type": "markdown",
   "metadata": {},
   "source": [
    "Введем события:\n",
    "\n",
    "V1 - Студент сдал первую сессию учится на факультете A \n",
    "\n",
    "Это событие произойдет, если Студент, который сдал первую сессию учится на факультете A и не учится на факультете B, C\n",
    "\n",
    "V2 - Студент сдал первую сессию учится на факультете B\n",
    "\n",
    "Это событие произойдет, если Студент, который сдал первую сессию учится на факультете B и не учится на факультете A, C\n",
    "\n",
    "V3 - Студент сдал первую сессию учится на факультете C \n",
    "\n",
    "Это событие произойдет, если Студент, который сдал первую сессию учится на факультете C и не учится на факультете B, A"
   ]
  },
  {
   "cell_type": "markdown",
   "metadata": {},
   "source": [
    "то есть:  \n",
    "\n",
    "P(V1) = P(V|A)P(A)\n",
    "\n",
    "P(V2) = P(V|B)P(B)\n",
    "\n",
    "P(V3) = P(V|C)P(C)"
   ]
  },
  {
   "cell_type": "code",
   "execution_count": 69,
   "metadata": {},
   "outputs": [],
   "source": [
    "v1 = 0.8*0.25\n",
    "v2 = 0.7*0.25\n",
    "v3 = 0.9*0.5"
   ]
  },
  {
   "cell_type": "code",
   "execution_count": 74,
   "metadata": {},
   "outputs": [
    {
     "name": "stdout",
     "output_type": "stream",
     "text": [
      "Bероятность, что Студент, который сдал первую сессию учится:\n",
      "\n",
      " a) на факультете A - 0.2\n",
      " б) на факультете B - 0.175\n",
      " в) на факультете C - 0.45\n"
     ]
    }
   ],
   "source": [
    "print(f'Bероятность, что Студент, который сдал первую сессию учится:\\n\\n a) на факультете A - {v1}\\n б) на факультете B - {v2}\\n в) на факультете C - {v3}')"
   ]
  },
  {
   "cell_type": "code",
   "execution_count": null,
   "metadata": {},
   "outputs": [],
   "source": []
  }
 ],
 "metadata": {
  "kernelspec": {
   "display_name": "Python 3",
   "language": "python",
   "name": "python3"
  },
  "language_info": {
   "codemirror_mode": {
    "name": "ipython",
    "version": 3
   },
   "file_extension": ".py",
   "mimetype": "text/x-python",
   "name": "python",
   "nbconvert_exporter": "python",
   "pygments_lexer": "ipython3",
   "version": "3.8.3"
  }
 },
 "nbformat": 4,
 "nbformat_minor": 4
}
