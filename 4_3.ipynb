{
  "nbformat": 4,
  "nbformat_minor": 0,
  "metadata": {
    "colab": {
      "name": "Копия 4.3.ipynb",
      "provenance": []
    },
    "language_info": {
      "codemirror_mode": {
        "name": "ipython",
        "version": 3
      },
      "file_extension": ".py",
      "mimetype": "text/x-python",
      "name": "python",
      "nbconvert_exporter": "python",
      "pygments_lexer": "ipython3",
      "version": "3.6.0"
    },
    "kernelspec": {
      "display_name": "Python 3",
      "language": "python",
      "name": "python3"
    }
  },
  "cells": [
    {
      "cell_type": "code",
      "metadata": {
        "id": "GB0qd9sKpL_j"
      },
      "source": [
        "import numpy as np\n",
        "import itertools"
      ],
      "execution_count": null,
      "outputs": []
    },
    {
      "cell_type": "code",
      "metadata": {
        "id": "q0zHtpmgpL_p"
      },
      "source": [
        " "
      ],
      "execution_count": null,
      "outputs": []
    },
    {
      "cell_type": "code",
      "metadata": {
        "id": "SeNjkkx7pL_0",
        "colab": {
          "base_uri": "https://localhost:8080/"
        },
        "outputId": "fdefc9f5-7aa8-46b8-d70a-28e3f1722ddd"
      },
      "source": [
        ""
      ],
      "execution_count": null,
      "outputs": [
        {
          "output_type": "stream",
          "text": [
            "1 11\n",
            "2 12\n",
            "3 13\n",
            "4 14\n",
            "5 15\n",
            "6 16\n",
            "7 17\n",
            "8 18\n",
            "9 19\n",
            "10 21\n",
            "11 22\n",
            "12 23\n",
            "13 24\n",
            "14 25\n",
            "15 26\n",
            "16 27\n",
            "17 28\n",
            "18 29\n",
            "19 31\n",
            "20 32\n",
            "21 33\n",
            "22 34\n",
            "23 35\n",
            "24 36\n",
            "25 37\n",
            "26 38\n",
            "27 39\n",
            "28 41\n",
            "29 42\n",
            "30 43\n",
            "31 44\n",
            "32 45\n",
            "33 46\n",
            "34 47\n",
            "35 48\n",
            "36 49\n",
            "37 51\n",
            "38 52\n",
            "39 53\n",
            "40 54\n",
            "41 55\n",
            "42 56\n",
            "43 57\n",
            "44 58\n",
            "45 59\n",
            "46 61\n",
            "47 62\n",
            "48 63\n",
            "49 64\n",
            "50 65\n",
            "51 66\n",
            "52 67\n",
            "53 68\n",
            "54 69\n",
            "55 71\n",
            "56 72\n",
            "57 73\n",
            "58 74\n",
            "59 75\n",
            "60 76\n",
            "61 77\n",
            "62 78\n",
            "63 79\n",
            "64 81\n",
            "65 82\n",
            "66 83\n",
            "67 84\n",
            "68 85\n",
            "69 86\n",
            "70 87\n",
            "71 88\n",
            "72 89\n",
            "73 91\n",
            "74 92\n",
            "75 93\n",
            "76 94\n",
            "77 95\n",
            "78 96\n",
            "79 97\n",
            "80 98\n",
            "81 99\n"
          ],
          "name": "stdout"
        }
      ]
    },
    {
      "cell_type": "code",
      "metadata": {
        "id": "VgZZDLpTpL_4",
        "colab": {
          "base_uri": "https://localhost:8080/"
        },
        "outputId": "e1538a35-8bea-4a20-b56b-771c90592172"
      },
      "source": [
        "for p in itertools.product(\"01\",repeat=4):\n",
        "    print(''.join(p))   "
      ],
      "execution_count": null,
      "outputs": [
        {
          "output_type": "stream",
          "text": [
            "0000\n",
            "0001\n",
            "0010\n",
            "0011\n",
            "0100\n",
            "0101\n",
            "0110\n",
            "0111\n",
            "1000\n",
            "1001\n",
            "1010\n",
            "1011\n",
            "1100\n",
            "1101\n",
            "1110\n",
            "1111\n"
          ],
          "name": "stdout"
        }
      ]
    },
    {
      "cell_type": "code",
      "metadata": {
        "id": "dAKpARzzpL_6"
      },
      "source": [
        ""
      ],
      "execution_count": null,
      "outputs": []
    }
  ]
}