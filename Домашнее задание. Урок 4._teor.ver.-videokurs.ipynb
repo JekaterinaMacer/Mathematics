{
 "cells": [
  {
   "cell_type": "markdown",
   "metadata": {},
   "source": [
    "### Домашнее задание. Урок 4."
   ]
  },
  {
   "cell_type": "markdown",
   "metadata": {},
   "source": [
    "1. Случайная непрерывная величина A имеет равномерное распределение на промежутке (200, 800].\n",
    "Найдите ее среднее значение и дисперсию."
   ]
  },
  {
   "cell_type": "markdown",
   "metadata": {},
   "source": [
    "Так как это непрерывное равномерное распределение, включаем 200 в расчет:"
   ]
  },
  {
   "cell_type": "code",
   "execution_count": 1,
   "metadata": {},
   "outputs": [],
   "source": [
    "a = 200\n",
    "b = 800"
   ]
  },
  {
   "cell_type": "code",
   "execution_count": 3,
   "metadata": {},
   "outputs": [
    {
     "data": {
      "text/plain": [
       "500.0"
      ]
     },
     "execution_count": 3,
     "metadata": {},
     "output_type": "execute_result"
    }
   ],
   "source": [
    "#среднее значение\n",
    "m = (a+b)/2\n",
    "m"
   ]
  },
  {
   "cell_type": "code",
   "execution_count": 4,
   "metadata": {},
   "outputs": [
    {
     "data": {
      "text/plain": [
       "30000.0"
      ]
     },
     "execution_count": 4,
     "metadata": {},
     "output_type": "execute_result"
    }
   ],
   "source": [
    "# дисперсия\n",
    "d = ((b-a)**2)/12\n",
    "d"
   ]
  },
  {
   "cell_type": "markdown",
   "metadata": {},
   "source": [
    "2. О случайной непрерывной равномерно распределенной величине B известно, что ее дисперсия равна 0.2.\n",
    "Можно ли найти правую границу величины B и ее среднее значение зная, что левая граница равна 0.5?\n",
    "Если да, найдите ее.\n"
   ]
  },
  {
   "cell_type": "code",
   "execution_count": 14,
   "metadata": {},
   "outputs": [],
   "source": [
    "import math"
   ]
  },
  {
   "cell_type": "code",
   "execution_count": 10,
   "metadata": {},
   "outputs": [],
   "source": [
    "a1 = 0.5\n",
    "#b1 = '?'"
   ]
  },
  {
   "cell_type": "code",
   "execution_count": 17,
   "metadata": {},
   "outputs": [
    {
     "data": {
      "text/plain": [
       "2.049193338482967"
      ]
     },
     "execution_count": 17,
     "metadata": {},
     "output_type": "execute_result"
    }
   ],
   "source": [
    "# дисперсия\n",
    "d = 0.2 \n",
    "#d = ((b1-a1)**2)/12 \n",
    "b1 = (math.sqrt(d*12))+0.5\n",
    "b1"
   ]
  },
  {
   "cell_type": "code",
   "execution_count": 18,
   "metadata": {},
   "outputs": [
    {
     "data": {
      "text/plain": [
       "1.2745966692414834"
      ]
     },
     "execution_count": 18,
     "metadata": {},
     "output_type": "execute_result"
    }
   ],
   "source": [
    "#среднее значение\n",
    "m = (a1+b1)/2\n",
    "m"
   ]
  },
  {
   "cell_type": "markdown",
   "metadata": {},
   "source": [
    "3. Непрерывная случайная величина X распределена нормально и задана плотностью распределения\n",
    "f(x) = (1 / (4 * sqrt(2*pi))) * (exp(-(x+2)**2) / 32).\n",
    "Найдите:\n",
    "а). M(X)\n",
    "б). D(X)\n",
    "в). std(X) (среднее квадратичное отклонение)\n",
    "\n"
   ]
  },
  {
   "cell_type": "code",
   "execution_count": 28,
   "metadata": {},
   "outputs": [],
   "source": [
    "x = 1"
   ]
  },
  {
   "cell_type": "code",
   "execution_count": 29,
   "metadata": {},
   "outputs": [],
   "source": [
    "f = (1 / (4 * math.sqrt(2*math.pi))) * (math.exp(-(x+2)*2) / 32)"
   ]
  },
  {
   "cell_type": "code",
   "execution_count": 30,
   "metadata": {},
   "outputs": [],
   "source": [
    "std = 4\n",
    "d = 16 #32=2std**2\n",
    "m = -2 #x-mu"
   ]
  },
  {
   "cell_type": "markdown",
   "metadata": {},
   "source": [
    "\n",
    "4. Рост взрослого населения города X имеет нормальное распределение.\n",
    "Причем, средний рост равен 174 см, а среднее квадратичное отклонение равно 8 см.\n",
    "Какова вероятность того, что случайным образом выбранный взрослый человек имеет рост:\n",
    "а). больше 182 см\n",
    "б). больше 190 см\n",
    "в). от 166 см до 190 см\n",
    "г). от 166 см до 182 см\n",
    "д). от 158 см до 190 см\n",
    "е). не выше 150 см или не ниже 190 см\n",
    "ё). не выше 150 см или не ниже 198 см\n",
    "ж). ниже 166 см.\n",
    "\n"
   ]
  },
  {
   "cell_type": "markdown",
   "metadata": {},
   "source": [
    "используем Z-распр, т.к.норм.станд.распр, используем правило 3 сигм:"
   ]
  },
  {
   "cell_type": "code",
   "execution_count": 33,
   "metadata": {},
   "outputs": [],
   "source": [
    "#а). больше 182 см \n",
    "v1 = 13.6+2.15+0.15\n",
    "\n",
    "#б). больше 190 см \n",
    "v2 = 2.15+0.15\n",
    "\n",
    "#в). от 166 см до 190 см \n",
    "v3 = 34.1+34.1+13.6\n",
    "\n",
    "#г). от 166 см до 182 см \n",
    "v4 = 34.1+34.1\n",
    "\n",
    "#д). от 158 см до 190 см \n",
    "v5 = 34.1+34.1+13.6+13.6\n",
    "\n",
    "#е). не выше 150 см или не ниже 190 см \n",
    "v6 = 0.15+2.15+0.15\n",
    "\n",
    "#ё). не выше 150 см или не ниже 198 см \n",
    "v7 = 0.15+0.15\n",
    "\n",
    "#ж). ниже 166 см.\n",
    "v8 = 13.6+2.15+0.15\n",
    "\n"
   ]
  },
  {
   "cell_type": "code",
   "execution_count": 35,
   "metadata": {},
   "outputs": [
    {
     "name": "stdout",
     "output_type": "stream",
     "text": [
      "Вероятность, что случайным образом выбранный взрослый человек имеет рост:\n",
      "а). больше 182 см 15.9 %\n",
      "б). больше 190 см 2.3 %\n",
      "в). от 166 см до 190 см 81.8 %\n",
      "г). от 166 см до 182 см 68.2 %\n",
      "д). от 158 см до 190 см 95.39999999999999 %\n",
      "е). не выше 150 см или не ниже 190 см 2.4499999999999997 %\n",
      "ё). не выше 150 см или не ниже 198 см 0.3 %\n",
      "ж). ниже 166 см. 15.9 %\n"
     ]
    }
   ],
   "source": [
    "print (f'Вероятность, что случайным образом выбранный взрослый человек имеет рост:\\nа). больше 182 см {v1} %\\nб). больше 190 см {v2} %\\nв). от 166 см до 190 см {v3} %\\nг). от 166 см до 182 см {v4} %\\nд). от 158 см до 190 см {v5} %\\nе). не выше 150 см или не ниже 190 см {v6} %\\nё). не выше 150 см или не ниже 198 см {v7} %\\nж). ниже 166 см. {v8} %')"
   ]
  },
  {
   "cell_type": "markdown",
   "metadata": {},
   "source": [
    "\n",
    "5. На сколько сигм (средних квадратичных отклонений) отклоняется рост человека, равный 190 см, от\n",
    "математического ожидания роста в популяции, в которой M(X) = 178 см и D(X) = 25 кв.см?\n",
    "\n"
   ]
  },
  {
   "cell_type": "code",
   "execution_count": 36,
   "metadata": {},
   "outputs": [],
   "source": [
    "d = 25\n",
    "std = 5\n",
    "m = 178\n",
    "x = 190\n",
    "t = x-m\n",
    "ot = t/std"
   ]
  },
  {
   "cell_type": "code",
   "execution_count": 38,
   "metadata": {},
   "outputs": [
    {
     "name": "stdout",
     "output_type": "stream",
     "text": [
      "Рост человека, равный 190 см, отклоняется от математического ожидания роста в популяции на 2.4 сигмы\n"
     ]
    }
   ],
   "source": [
    "print(f'Рост человека, равный 190 см, отклоняется от математического ожидания роста в популяции на {ot} сигмы') "
   ]
  },
  {
   "cell_type": "code",
   "execution_count": null,
   "metadata": {},
   "outputs": [],
   "source": []
  }
 ],
 "metadata": {
  "kernelspec": {
   "display_name": "Python 3",
   "language": "python",
   "name": "python3"
  },
  "language_info": {
   "codemirror_mode": {
    "name": "ipython",
    "version": 3
   },
   "file_extension": ".py",
   "mimetype": "text/x-python",
   "name": "python",
   "nbconvert_exporter": "python",
   "pygments_lexer": "ipython3",
   "version": "3.8.3"
  }
 },
 "nbformat": 4,
 "nbformat_minor": 4
}
