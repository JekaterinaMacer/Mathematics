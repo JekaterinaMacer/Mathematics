{
 "cells": [
  {
   "cell_type": "markdown",
   "metadata": {},
   "source": [
    "### Задача 1\n",
    "Группа студентов изучает 10 различных дисциплин. Сколькими способами можно составить расписание на понедельник, если в этот день должно быть 4 разных занятия?     #размещение"
   ]
  },
  {
   "cell_type": "markdown",
   "metadata": {},
   "source": [
    "__Размещение из $n$ элементов по $k$ элементов__ — это упорядоченный набор из $k$ элементов, выбранных из множества, содержащего $n$ элементов."
   ]
  },
  {
   "cell_type": "code",
   "execution_count": 206,
   "metadata": {},
   "outputs": [],
   "source": [
    "import numpy as np"
   ]
  },
  {
   "cell_type": "code",
   "execution_count": 207,
   "metadata": {},
   "outputs": [],
   "source": [
    "n = 10\n",
    "k = 4"
   ]
  },
  {
   "cell_type": "code",
   "execution_count": 208,
   "metadata": {},
   "outputs": [],
   "source": [
    "def arrangements(n, k):\n",
    "    return np.math.factorial(n) // np.math.factorial(n - k)"
   ]
  },
  {
   "cell_type": "code",
   "execution_count": 209,
   "metadata": {},
   "outputs": [
    {
     "name": "stdout",
     "output_type": "stream",
     "text": [
      "Расписание на понедельник можно составить 5040 способами\n"
     ]
    }
   ],
   "source": [
    "print (f'Расписание на понедельник можно составить {arrangements(10, 4)} способами')"
   ]
  },
  {
   "cell_type": "markdown",
   "metadata": {},
   "source": [
    "### Задача 2\n",
    "Из колоды в 52 карты вынимают случайным образом 4 карты. Найти число исходов, соответствующих тому, что был вытянут хотя бы один туз.\n",
    " #сочетание\n"
   ]
  },
  {
   "cell_type": "markdown",
   "metadata": {},
   "source": [
    "__Сочетание из 𝑛 элементов по 𝑘 элементов__ — это неупорядоченный набор из 𝑘 элементов, выбранных из множества, содержащего  𝑛 элементов."
   ]
  },
  {
   "cell_type": "code",
   "execution_count": 210,
   "metadata": {},
   "outputs": [],
   "source": [
    "def combinations(n, k):\n",
    "    return np.math.factorial(n) // (np.math.factorial(k) * np.math.factorial(n - k))"
   ]
  },
  {
   "cell_type": "markdown",
   "metadata": {},
   "source": [
    "Чтобы решить эту задачу, нужно сначала рассмотреть ситуацию, когда выбирается 1 туз из четырех.\n",
    "\n"
   ]
  },
  {
   "cell_type": "code",
   "execution_count": 211,
   "metadata": {},
   "outputs": [
    {
     "name": "stdout",
     "output_type": "stream",
     "text": [
      "Число таких сочетаний будет равно: 4\n"
     ]
    }
   ],
   "source": [
    "print (f'Число таких сочетаний будет равно: {combinations(4, 1)}')"
   ]
  },
  {
   "cell_type": "markdown",
   "metadata": {},
   "source": [
    "Остальные три карты выбираются из 48 карт  — тузы не рассматриваются, так как они уже выбраны:"
   ]
  },
  {
   "cell_type": "code",
   "execution_count": 212,
   "metadata": {},
   "outputs": [
    {
     "name": "stdout",
     "output_type": "stream",
     "text": [
      "Число таких сочетаний будет равно: 17296\n"
     ]
    }
   ],
   "source": [
    "print (f'Число таких сочетаний будет равно: {combinations(48, 3)}')"
   ]
  },
  {
   "cell_type": "markdown",
   "metadata": {},
   "source": [
    "И в этом случае будет такое число сочетаний, когда из колоды, в которой 52 карты, выбраны четыре, 1 из которых — туз:"
   ]
  },
  {
   "cell_type": "code",
   "execution_count": 213,
   "metadata": {},
   "outputs": [
    {
     "name": "stdout",
     "output_type": "stream",
     "text": [
      "A будет равно: 69184\n"
     ]
    }
   ],
   "source": [
    "a = combinations(4, 1) * combinations(48, 3)\n",
    "\n",
    "print(f'A будет равно: {a}')"
   ]
  },
  {
   "cell_type": "markdown",
   "metadata": {},
   "source": [
    "Теперь рассмотрим ситуацию выбора 2 тузов из четырех."
   ]
  },
  {
   "cell_type": "code",
   "execution_count": 214,
   "metadata": {},
   "outputs": [
    {
     "name": "stdout",
     "output_type": "stream",
     "text": [
      "Число таких сочетаний будет равно: 6\n"
     ]
    }
   ],
   "source": [
    "print (f'Число таких сочетаний будет равно: {combinations(4, 2)}')"
   ]
  },
  {
   "cell_type": "markdown",
   "metadata": {},
   "source": [
    "Остальные 2 карты выбираются из 48 карт — тузы не рассматриваются, так как они уже выбраны:"
   ]
  },
  {
   "cell_type": "code",
   "execution_count": 215,
   "metadata": {},
   "outputs": [
    {
     "name": "stdout",
     "output_type": "stream",
     "text": [
      "Число таких сочетаний будет равно: 1128\n"
     ]
    }
   ],
   "source": [
    "print (f'Число таких сочетаний будет равно: {combinations(48, 2)}')"
   ]
  },
  {
   "cell_type": "markdown",
   "metadata": {},
   "source": [
    "И в этом случае будет такое число сочетаний, когда из колоды, в которой 52 карты, выбраны четыре, 2 из которых — тузы:"
   ]
  },
  {
   "cell_type": "code",
   "execution_count": 216,
   "metadata": {},
   "outputs": [
    {
     "name": "stdout",
     "output_type": "stream",
     "text": [
      "B будет равно: 6768\n"
     ]
    }
   ],
   "source": [
    "b = combinations(4, 2) * combinations(48, 2)\n",
    "\n",
    "print(f'B будет равно: {b}')"
   ]
  },
  {
   "cell_type": "markdown",
   "metadata": {},
   "source": [
    "Теперь рассмотрим ситуацию выбора трех тузов из четырех."
   ]
  },
  {
   "cell_type": "code",
   "execution_count": 217,
   "metadata": {},
   "outputs": [
    {
     "name": "stdout",
     "output_type": "stream",
     "text": [
      "Число таких сочетаний будет равно: 4\n"
     ]
    }
   ],
   "source": [
    "print (f'Число таких сочетаний будет равно: {combinations(4, 3)}')"
   ]
  },
  {
   "cell_type": "markdown",
   "metadata": {},
   "source": [
    "Остальные 1 карта выбираются из 48 карт — тузы не рассматриваются, так как они уже выбраны:"
   ]
  },
  {
   "cell_type": "code",
   "execution_count": 218,
   "metadata": {},
   "outputs": [
    {
     "name": "stdout",
     "output_type": "stream",
     "text": [
      "Число таких сочетаний будет равно: 48\n"
     ]
    }
   ],
   "source": [
    "print (f'Число таких сочетаний будет равно: {combinations(48, 1)}')"
   ]
  },
  {
   "cell_type": "markdown",
   "metadata": {},
   "source": [
    "И в этом случае будет такое число сочетаний, когда из колоды, в которой 52 карты, выбраны четыре, 3 из которых — тузы:"
   ]
  },
  {
   "cell_type": "code",
   "execution_count": 219,
   "metadata": {},
   "outputs": [
    {
     "name": "stdout",
     "output_type": "stream",
     "text": [
      "C будет равно: 192\n"
     ]
    }
   ],
   "source": [
    "c = combinations(4, 3) * combinations(48, 1)\n",
    "\n",
    "print(f'C будет равно: {c}')"
   ]
  },
  {
   "cell_type": "markdown",
   "metadata": {},
   "source": [
    "Теперь рассмотрим ситуацию выбора 4 тузов из четырех."
   ]
  },
  {
   "cell_type": "code",
   "execution_count": 220,
   "metadata": {},
   "outputs": [
    {
     "name": "stdout",
     "output_type": "stream",
     "text": [
      "Число таких сочетаний будет равно: 1\n"
     ]
    }
   ],
   "source": [
    "print (f'Число таких сочетаний будет равно: {combinations(4, 4)}')"
   ]
  },
  {
   "cell_type": "code",
   "execution_count": 221,
   "metadata": {},
   "outputs": [
    {
     "name": "stdout",
     "output_type": "stream",
     "text": [
      "D будет равно: 1\n"
     ]
    }
   ],
   "source": [
    "d = combinations(4, 4) * combinations(48, 0)\n",
    "\n",
    "print(f'D будет равно: {d}')"
   ]
  },
  {
   "cell_type": "markdown",
   "metadata": {},
   "source": [
    "Осталось сложить полученные числа сочетаний:"
   ]
  },
  {
   "cell_type": "code",
   "execution_count": 222,
   "metadata": {},
   "outputs": [],
   "source": [
    "x = a + b + c + d"
   ]
  },
  {
   "cell_type": "code",
   "execution_count": 223,
   "metadata": {},
   "outputs": [
    {
     "name": "stdout",
     "output_type": "stream",
     "text": [
      "Число исходов, соответствующих тому, что был вытянут хотя бы один туз: 76145\n"
     ]
    }
   ],
   "source": [
    "print(f'Число исходов, соответствующих тому, что был вытянут хотя бы один туз: {x}')"
   ]
  },
  {
   "cell_type": "markdown",
   "metadata": {},
   "source": [
    "### Задача 3\n",
    "Семь человек рассаживаются наудачу на скамейке. Какова вероятность того, что два определённых человека будут сидеть рядом?\n"
   ]
  },
  {
   "cell_type": "markdown",
   "metadata": {},
   "source": [
    "__Перестановкой из $n$ элементов__ называется размещение из $n$ элементов по $n$ элементов."
   ]
  },
  {
   "cell_type": "code",
   "execution_count": 224,
   "metadata": {},
   "outputs": [],
   "source": [
    "def permutations(n):\n",
    "    return np.math.factorial(n)"
   ]
  },
  {
   "cell_type": "code",
   "execution_count": 225,
   "metadata": {},
   "outputs": [
    {
     "name": "stdout",
     "output_type": "stream",
     "text": [
      "Число возможных рассадок 7 человек: 5040\n"
     ]
    }
   ],
   "source": [
    "print(f'Число возможных рассадок 7 человек: {permutations(7)}')"
   ]
  },
  {
   "cell_type": "markdown",
   "metadata": {},
   "source": [
    "Из 7 человек, сидящих на скамейке, получается 6 пар, они могут сидеть как угодно (т.е. 6!). \n",
    "\n",
    "Каждая пара человек может сесть двумя способами (т.е. 2!)."
   ]
  },
  {
   "cell_type": "markdown",
   "metadata": {},
   "source": [
    "Используем классическую формулу вероятности **P = m / n**"
   ]
  },
  {
   "cell_type": "code",
   "execution_count": 226,
   "metadata": {},
   "outputs": [],
   "source": [
    "n = 5040\n",
    "m = permutations(2)*permutations(6)"
   ]
  },
  {
   "cell_type": "code",
   "execution_count": 227,
   "metadata": {},
   "outputs": [
    {
     "name": "stdout",
     "output_type": "stream",
     "text": [
      "Вероятность того, что два определенных человека будут сидеть рядом : 0.2857142857142857\n"
     ]
    }
   ],
   "source": [
    "print(f'Вероятность того, что два определенных человека будут сидеть рядом : {m/n}')"
   ]
  },
  {
   "cell_type": "markdown",
   "metadata": {},
   "source": [
    "### Задача 4\n",
    "Из 60 вопросов, входящих в экзаменационные билеты, студент знает 50. Какова вероятность того, что среди трёх наугад выбранных вопросов студент знает:\n",
    "\n",
    "а) все? \n",
    "\n",
    "б) два?\n",
    "\n",
    "#сочетание\n"
   ]
  },
  {
   "cell_type": "markdown",
   "metadata": {},
   "source": [
    "Cначала посчитаем число сочетаний в ситуации, когда выбирается 3 вопроса из 50:\n"
   ]
  },
  {
   "cell_type": "code",
   "execution_count": 228,
   "metadata": {},
   "outputs": [
    {
     "name": "stdout",
     "output_type": "stream",
     "text": [
      "Число таких сочетаний будет равно: 19600\n"
     ]
    }
   ],
   "source": [
    "print (f'Число таких сочетаний будет равно: {combinations(50, 3)}')"
   ]
  },
  {
   "cell_type": "code",
   "execution_count": 229,
   "metadata": {},
   "outputs": [
    {
     "name": "stdout",
     "output_type": "stream",
     "text": [
      "Число сочетаний, когда среди трёх наугад выбранных вопросов студент знает все: 19600\n"
     ]
    }
   ],
   "source": [
    "print (f'Число сочетаний, когда среди трёх наугад выбранных вопросов студент знает все: {combinations(50, 3) * combinations(10, 0)}')"
   ]
  },
  {
   "cell_type": "code",
   "execution_count": 230,
   "metadata": {},
   "outputs": [
    {
     "name": "stdout",
     "output_type": "stream",
     "text": [
      "Вероятность данного события : 0.0001530612244897959\n"
     ]
    }
   ],
   "source": [
    "print(f'Вероятность данного события : {3/19600}')\n"
   ]
  },
  {
   "cell_type": "markdown",
   "metadata": {},
   "source": [
    "Теперь посчитаем число сочетаний в ситуации, когда выбирается 2 вопроса из 50:\n",
    "\n"
   ]
  },
  {
   "cell_type": "code",
   "execution_count": 231,
   "metadata": {},
   "outputs": [
    {
     "name": "stdout",
     "output_type": "stream",
     "text": [
      "Число таких сочетаний будет равно: 1225\n"
     ]
    }
   ],
   "source": [
    "print (f'Число таких сочетаний будет равно: {combinations(50, 2)}')"
   ]
  },
  {
   "cell_type": "code",
   "execution_count": 232,
   "metadata": {},
   "outputs": [
    {
     "name": "stdout",
     "output_type": "stream",
     "text": [
      "Число сочетаний, когда среди трёх наугад выбранных вопросов студент знает 2: 12250\n"
     ]
    }
   ],
   "source": [
    "print (f'Число сочетаний, когда среди трёх наугад выбранных вопросов студент знает 2: {combinations(50, 2) * combinations(10, 1)}')"
   ]
  },
  {
   "cell_type": "code",
   "execution_count": 233,
   "metadata": {},
   "outputs": [
    {
     "name": "stdout",
     "output_type": "stream",
     "text": [
      "Вероятность данного события : 0.00024489795918367346\n"
     ]
    }
   ],
   "source": [
    "print(f'Вероятность данного события : {3/12250}')"
   ]
  },
  {
   "cell_type": "markdown",
   "metadata": {},
   "source": [
    "### Задача 5\n",
    "Бросается игральная кость. Пусть событие A - появление чётного числа, событие B - появление числа больше трёх. Являются ли эти события независимыми?\n"
   ]
  },
  {
   "cell_type": "markdown",
   "metadata": {},
   "source": [
    "Независимыми считаются события, при которых вероятность наступления события А равна вероятности наступления события А, при условии наступления события В  ->  **P(A|B) = P(A)** или **P(В|А) = P(В)**"
   ]
  },
  {
   "cell_type": "markdown",
   "metadata": {},
   "source": [
    "Сначала рассмотрим вероятность выпадения четного числа. Таких случаев может быть три: это события, при которых выпадают числа  2, 4, 6. Вероятность для каждого из них равна  1/6.\n",
    "Так как эти три события являются несовместными, вероятность их суммы равна сумме их вероятностей:"
   ]
  },
  {
   "cell_type": "code",
   "execution_count": 234,
   "metadata": {},
   "outputs": [
    {
     "name": "stdout",
     "output_type": "stream",
     "text": [
      "Вероятность наступления события A: 0.5\n"
     ]
    }
   ],
   "source": [
    "print (f'Вероятность наступления события A: {1/6 + 1/6 + 1/6}') "
   ]
  },
  {
   "cell_type": "markdown",
   "metadata": {},
   "source": [
    "Вероятность появления числа больше трёх: это события, при которых выпадают числа  4, 5, 6.  Вероятность для каждого из них равна  1/6. Так как эти три события также являются несовместными, вероятность их суммы равна сумме их вероятностей:"
   ]
  },
  {
   "cell_type": "code",
   "execution_count": 235,
   "metadata": {},
   "outputs": [
    {
     "name": "stdout",
     "output_type": "stream",
     "text": [
      "Вероятность наступления события В: 0.5\n"
     ]
    }
   ],
   "source": [
    "print (f'Вероятность наступления события В: {1/6 + 1/6 + 1/6}') "
   ]
  },
  {
   "cell_type": "markdown",
   "metadata": {},
   "source": [
    "Вероятность одновременного появления двух независимых событий вычисляется по формуле: 𝑃(𝐴𝐵)=𝑃(𝐴)⋅𝑃(𝐵).\n",
    "\n",
    "Условная вероятность  𝑃(𝐵|𝐴) — это вероятность наступления события 𝐵 при условии, что произошло событие 𝐴.\n",
    "\n",
    "**𝑃(𝐵|𝐴) = 𝑃(𝐴𝐵) / 𝑃(𝐴)**"
   ]
  },
  {
   "cell_type": "code",
   "execution_count": 236,
   "metadata": {},
   "outputs": [
    {
     "name": "stdout",
     "output_type": "stream",
     "text": [
      "Вероятность наступления события В при условии, что произошло событие 𝐴: 0.5\n"
     ]
    }
   ],
   "source": [
    "print (f'Вероятность наступления события В при условии, что произошло событие 𝐴: {0.5*0.5/0.5}')"
   ]
  },
  {
   "cell_type": "markdown",
   "metadata": {},
   "source": [
    "Так как P(В|А) = P(В), можем сделать вывод, что эти события являются независимыми."
   ]
  },
  {
   "cell_type": "markdown",
   "metadata": {},
   "source": [
    "### Задача 6\n",
    "Допустим, имеется некоторая очень редкая болезнь (поражает 0.1 % населения). Вы приходите к врачу, вам делают тест на эту болезнь, и тест оказывается положительным. Врач говорит вам, что этот тест верно выявляет 99 % больных этой болезнью и всего лишь в 1 % случаев даёт ложный положительный ответ.\n",
    "Вопрос: какова вероятность, что вы действительно больны ей?\n",
    "Подсказка: вновь используйте формулу Байеса с раскрытием знаменателя с помощью формулы полной вероятности."
   ]
  },
  {
   "cell_type": "markdown",
   "metadata": {},
   "source": [
    "Говорят, что события $H_1$, $H_2$, $\\dots$, $H_n$ образуют __полную группу событий__, если в ходе любого испытания одно из этих событий произойдет. Другими словами, $P(H_1 + H_2 + \\dots + H_n) = 1$. \n",
    "\n",
    "Формула полной вероятности для таких событий и произвольного события $A$:\n",
    "\n",
    "$$P(A) = P(H_1) \\cdot P(A | H_1) + P(H_2) \\cdot P(A | H_2) + \\dots + P(H_n) \\cdot P(A | H_n)$$"
   ]
  },
  {
   "cell_type": "markdown",
   "metadata": {},
   "source": [
    "Сразу же определимся с тем, какие события мы здесь рассматриваем. \n",
    "\n",
    "Пусть событие $A$ заключается в том, чтобы заболеть этой очень редкой болезнью. \n",
    "\n",
    "Пусть событие $B$ заключается в том, что тест положительный.\n",
    "\n",
    "В такой формулировке наша задача - найти вероятность $P(A | B)$."
   ]
  },
  {
   "cell_type": "markdown",
   "metadata": {},
   "source": [
    "$$P(A\\:|\\:B) = \\frac{P(B\\:|\\:A) \\cdot P(A)}{P(B)}$$"
   ]
  },
  {
   "cell_type": "markdown",
   "metadata": {},
   "source": [
    "Болезнь поразила 0,1 % населения, откуда следует, что"
   ]
  },
  {
   "cell_type": "markdown",
   "metadata": {},
   "source": [
    "P(A) = 0.001 "
   ]
  },
  {
   "cell_type": "markdown",
   "metadata": {},
   "source": [
    "Тест дает верную информацию о наличии или отсутствии заболевания в 99 % случаев, откуда следует, что"
   ]
  },
  {
   "cell_type": "markdown",
   "metadata": {},
   "source": [
    "P(B|A) = 0.99"
   ]
  },
  {
   "cell_type": "markdown",
   "metadata": {},
   "source": [
    "Bероятность того, что произойдут оба события: P (B|A) × P (A) = 0,99 × 0,001 = 0,00099."
   ]
  },
  {
   "cell_type": "markdown",
   "metadata": {},
   "source": [
    "Теперь вычислим P(B).\n",
    "\n",
    "Вероятность, что тест положительный складывается из 2 событий:\n",
    "\n",
    "или тест положительный и человек действительно болен \n",
    "\n",
    "или тест положительный и человек здоров\n",
    "\n",
    "\n",
    "Значит:"
   ]
  },
  {
   "cell_type": "markdown",
   "metadata": {},
   "source": [
    "$$P(B) = ({P(B\\:|\\:A) \\cdot P(A)})+({P({B}|\\overline{A}) \\cdot P(\\overline{A}))}$$"
   ]
  },
  {
   "cell_type": "markdown",
   "metadata": {},
   "source": [
    "Тест дает верную информацию о том, что человек здоров, в 99 % случаев, откуда следует, что $$P(\\overline{B}|\\overline{A}) = 0,99$$"
   ]
  },
  {
   "cell_type": "markdown",
   "metadata": {},
   "source": [
    "Иначе говоря, тест ошибочен в 1 % случаев: $$P({B}|\\overline{A}) = 0,01$$"
   ]
  },
  {
   "cell_type": "markdown",
   "metadata": {},
   "source": [
    "Вероятность того, что событие A не произойдет: $$P(\\overline{A}) = 1- P(A) = 0.999$$"
   ]
  },
  {
   "cell_type": "code",
   "execution_count": 237,
   "metadata": {},
   "outputs": [
    {
     "name": "stdout",
     "output_type": "stream",
     "text": [
      "P(B) = 0.01098\n"
     ]
    }
   ],
   "source": [
    "print (f'P(B) = {0.00099+0.01*0.999}')"
   ]
  },
  {
   "cell_type": "code",
   "execution_count": 238,
   "metadata": {},
   "outputs": [
    {
     "name": "stdout",
     "output_type": "stream",
     "text": [
      "Вероятность, что пациент с положительным результатом тестирования действительно болен: P(A|B) = 0.090163934\n"
     ]
    }
   ],
   "source": [
    "print (f'Вероятность, что пациент с положительным результатом тестирования действительно болен: ', end='')\n",
    "print (f'P(A|B) = {round(0.00099/0.01098, 9)}')"
   ]
  },
  {
   "cell_type": "code",
   "execution_count": null,
   "metadata": {},
   "outputs": [],
   "source": []
  }
 ],
 "metadata": {
  "kernelspec": {
   "display_name": "Python 3",
   "language": "python",
   "name": "python3"
  },
  "language_info": {
   "codemirror_mode": {
    "name": "ipython",
    "version": 3
   },
   "file_extension": ".py",
   "mimetype": "text/x-python",
   "name": "python",
   "nbconvert_exporter": "python",
   "pygments_lexer": "ipython3",
   "version": "3.8.3"
  }
 },
 "nbformat": 4,
 "nbformat_minor": 4
}
