{
 "cells": [
  {
   "cell_type": "markdown",
   "metadata": {},
   "source": [
    "## Тема 4 “Производная функции одной переменной”"
   ]
  },
  {
   "cell_type": "markdown",
   "metadata": {},
   "source": [
    "Найти длину 𝑥 и ширину 𝑦 прямоугольника при заданном периметре 𝑃=144 cм, при которых данный прямоугольник имеет наибольшую площадь 𝑆"
   ]
  },
  {
   "cell_type": "code",
   "execution_count": 66,
   "metadata": {},
   "outputs": [],
   "source": [
    "a = 1\n",
    "rezult = []"
   ]
  },
  {
   "cell_type": "code",
   "execution_count": 67,
   "metadata": {},
   "outputs": [
    {
     "name": "stdout",
     "output_type": "stream",
     "text": [
      "a =  2\n",
      "b =  70\n",
      "*****\n",
      "a =  3\n",
      "b =  69\n",
      "*****\n",
      "a =  4\n",
      "b =  68\n",
      "*****\n",
      "a =  5\n",
      "b =  67\n",
      "*****\n",
      "a =  6\n",
      "b =  66\n",
      "*****\n",
      "a =  7\n",
      "b =  65\n",
      "*****\n",
      "a =  8\n",
      "b =  64\n",
      "*****\n",
      "a =  9\n",
      "b =  63\n",
      "*****\n",
      "a =  10\n",
      "b =  62\n",
      "*****\n",
      "a =  11\n",
      "b =  61\n",
      "*****\n",
      "a =  12\n",
      "b =  60\n",
      "*****\n",
      "a =  13\n",
      "b =  59\n",
      "*****\n",
      "a =  14\n",
      "b =  58\n",
      "*****\n",
      "a =  15\n",
      "b =  57\n",
      "*****\n",
      "a =  16\n",
      "b =  56\n",
      "*****\n",
      "a =  17\n",
      "b =  55\n",
      "*****\n",
      "a =  18\n",
      "b =  54\n",
      "*****\n",
      "a =  19\n",
      "b =  53\n",
      "*****\n",
      "a =  20\n",
      "b =  52\n",
      "*****\n",
      "a =  21\n",
      "b =  51\n",
      "*****\n",
      "a =  22\n",
      "b =  50\n",
      "*****\n",
      "a =  23\n",
      "b =  49\n",
      "*****\n",
      "a =  24\n",
      "b =  48\n",
      "*****\n",
      "a =  25\n",
      "b =  47\n",
      "*****\n",
      "a =  26\n",
      "b =  46\n",
      "*****\n",
      "a =  27\n",
      "b =  45\n",
      "*****\n",
      "a =  28\n",
      "b =  44\n",
      "*****\n",
      "a =  29\n",
      "b =  43\n",
      "*****\n",
      "a =  30\n",
      "b =  42\n",
      "*****\n",
      "a =  31\n",
      "b =  41\n",
      "*****\n",
      "a =  32\n",
      "b =  40\n",
      "*****\n",
      "a =  33\n",
      "b =  39\n",
      "*****\n",
      "a =  34\n",
      "b =  38\n",
      "*****\n",
      "a =  35\n",
      "b =  37\n",
      "*****\n",
      "a =  36\n",
      "b =  36\n",
      "*****\n",
      "[140, 207, 272, 335, 396, 455, 512, 567, 620, 671, 720, 767, 812, 855, 896, 935, 972, 1007, 1040, 1071, 1100, 1127, 1152, 1175, 1196, 1215, 1232, 1247, 1260, 1271, 1280, 1287, 1292, 1295]\n",
      "наибольшая площадь 𝑆 прямоугольник 1295\n"
     ]
    }
   ],
   "source": [
    "while a < b < 71:\n",
    "    a += 1\n",
    "    print('a = ', a)\n",
    "    b = 72 - a\n",
    "    print('b = ', b)\n",
    "    a != b\n",
    "    if b < 0:\n",
    "        break\n",
    "    elif len(rezult) > 72/2:\n",
    "        break\n",
    "    c = a*b\n",
    "    rezult.append(c)\n",
    "    if a == b:\n",
    "        rezult.remove(c)\n",
    "    print('*'*5)    \n",
    "print(rezult)   \n",
    "print('наибольшая площадь 𝑆 прямоугольник', max(rezult))"
   ]
  },
  {
   "cell_type": "markdown",
   "metadata": {},
   "source": [
    "Ответ:\n",
    "    a =  35\n",
    "    b =  37 "
   ]
  },
  {
   "cell_type": "code",
   "execution_count": null,
   "metadata": {},
   "outputs": [],
   "source": []
  }
 ],
 "metadata": {
  "kernelspec": {
   "display_name": "Python 3",
   "language": "python",
   "name": "python3"
  },
  "language_info": {
   "codemirror_mode": {
    "name": "ipython",
    "version": 3
   },
   "file_extension": ".py",
   "mimetype": "text/x-python",
   "name": "python",
   "nbconvert_exporter": "python",
   "pygments_lexer": "ipython3",
   "version": "3.8.3"
  }
 },
 "nbformat": 4,
 "nbformat_minor": 4
}
