{
  "nbformat": 4,
  "nbformat_minor": 0,
  "metadata": {
    "colab": {
      "name": "Копия 4.4.ipynb",
      "provenance": [],
      "collapsed_sections": []
    },
    "language_info": {
      "codemirror_mode": {
        "name": "ipython",
        "version": 3
      },
      "file_extension": ".py",
      "mimetype": "text/x-python",
      "name": "python",
      "nbconvert_exporter": "python",
      "pygments_lexer": "ipython3",
      "version": "3.6.0"
    },
    "kernelspec": {
      "display_name": "Python 3",
      "language": "python",
      "name": "python3"
    }
  },
  "cells": [
    {
      "cell_type": "code",
      "metadata": {
        "id": "uRkzMzmKJEBA"
      },
      "source": [
        "import numpy as np\n",
        "import itertools\n",
        "import math\n",
        "import sys"
      ],
      "execution_count": null,
      "outputs": []
    },
    {
      "cell_type": "code",
      "metadata": {
        "id": "1FSBHdLLJEBM",
        "colab": {
          "base_uri": "https://localhost:8080/"
        },
        "outputId": "3f4b993c-e3b3-4cfb-a408-2bbf58d0e79e"
      },
      "source": [
        "k, n = 0, 1000\n",
        "a = np.random.randint(0, 2, n)\n",
        "b = np.random.randint(0, 2, n)\n",
        "c = np.random.randint(0, 2, n)\n",
        "d = np.random.randint(0, 2, n)\n",
        "x = a + b + c + d\n",
        "for i in range(0, n):\n",
        "    if x[i] == 2:\n",
        "        k = k + 1\n",
        "v=(0.5**k)*(0.5**(n-k))\n",
        "print(a, b, c, d)\n",
        "print(x)\n",
        "print(k, n, k/n,v)"
      ],
      "execution_count": null,
      "outputs": [
        {
          "output_type": "stream",
          "text": [
            "[0 1 0 1 0 1 0 0 1 0 0 0 1 1 0 0 1 1 0 1] [1 0 0 1 0 1 1 1 1 1 1 1 0 1 1 1 0 0 1 0] [1 0 1 1 1 0 0 0 1 0 1 1 0 0 0 1 1 1 0 1] [0 0 0 1 0 1 0 0 1 1 1 1 1 1 1 1 0 0 1 0]\n",
            "[2 1 1 4 1 3 1 1 4 2 3 3 2 3 2 3 2 2 2 2]\n",
            "0 20 0.0 9.5367431640625e-07\n"
          ],
          "name": "stdout"
        }
      ]
    },
    {
      "cell_type": "code",
      "metadata": {
        "id": "nnNAGGld5mWj"
      },
      "source": [
        ""
      ],
      "execution_count": null,
      "outputs": []
    }
  ]
}