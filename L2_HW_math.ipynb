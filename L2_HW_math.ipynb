{
 "cells": [
  {
   "cell_type": "markdown",
   "metadata": {},
   "source": [
    "### Задача 1\n",
    " \n",
    "Контрольная работа состоит из пяти вопросов. На каждый вопрос приведено четыре варианта ответа, один из которых правильный. Составьте закон распределения числа правильных ответов при простом угадывании. Найдите M(X), D(X).\n"
   ]
  },
  {
   "cell_type": "code",
   "execution_count": 142,
   "metadata": {},
   "outputs": [],
   "source": [
    "import numpy as np"
   ]
  },
  {
   "cell_type": "markdown",
   "metadata": {},
   "source": [
    "Рассмотрим случайную величину, равную числу угадываниия правильных ответов"
   ]
  },
  {
   "cell_type": "code",
   "execution_count": 143,
   "metadata": {},
   "outputs": [
    {
     "data": {
      "text/plain": [
       "2"
      ]
     },
     "execution_count": 143,
     "metadata": {},
     "output_type": "execute_result"
    }
   ],
   "source": [
    "np.random.binomial(n=5, p=0.25)"
   ]
  },
  {
   "cell_type": "markdown",
   "metadata": {},
   "source": [
    "Повторим этот эксперимент 20 раз и посмотрим, какие получаются значения"
   ]
  },
  {
   "cell_type": "code",
   "execution_count": 144,
   "metadata": {},
   "outputs": [
    {
     "data": {
      "text/plain": [
       "array([0, 0, 1, 3, 1, 2, 2, 0, 2, 4, 1, 1, 2, 5, 1, 1, 2, 1, 3, 2])"
      ]
     },
     "execution_count": 144,
     "metadata": {},
     "output_type": "execute_result"
    }
   ],
   "source": [
    "np.random.binomial(n=5, p=0.25, size=20)"
   ]
  },
  {
   "cell_type": "markdown",
   "metadata": {},
   "source": [
    " __Биномиальный закон__ описывает распределение случайной величины $X$, задающей число наступлений события $A$ в ходе проведения $n$ независимых опытов. Биномиальный закон распределения описывается __формулой Бернулли__:\n",
    "\n",
    "$$P(X = k) = C_n^k p^k (1 - p)^{n - k}$$\n"
   ]
  },
  {
   "cell_type": "markdown",
   "metadata": {},
   "source": [
    "Принимаемые значения данной случайной величины будут: $x_1 = 0$, $x_2 = 1$, $x_3 = 2$, $x_4 = 3$, $x_5 = 4$, $x_6 = 5$.\n",
    "\n",
    "Посчитаем вероятность того, что $X = 0$, т.е. что из пяти вопросов нет ни одного правильнoго ответа:\n",
    "\n",
    "$$P(X = 0) = C_n^k p^k (1 - p)^{n - k} = C_5^0 \\cdot 0.25^0 \\cdot 0.75^5 = \\frac{5!}{0! \\: (5-0)!} \\cdot 0.25^0 \\cdot 0.75^5 = 1 \\cdot 1 \\cdot 0.2373046875 = 0.2373046875.$$\n",
    "\n",
    "\n",
    "Посчитаем вероятность каждого значения:"
   ]
  },
  {
   "cell_type": "code",
   "execution_count": 145,
   "metadata": {},
   "outputs": [],
   "source": [
    "x = [0, 1, 2, 3, 4, 5]\n",
    "k = [0, 1, 2, 3, 4, 5] \n",
    "n = 5"
   ]
  },
  {
   "cell_type": "code",
   "execution_count": 146,
   "metadata": {},
   "outputs": [],
   "source": [
    "p = 0.25\n",
    "q = 0.75"
   ]
  },
  {
   "cell_type": "code",
   "execution_count": 147,
   "metadata": {},
   "outputs": [],
   "source": [
    "p0 = (np.math.factorial(n)/(np.math.factorial(x[0])*np.math.factorial(n-x[0])))*(p**k[0])*(q**(n-k[0]))\n",
    "p1 = (np.math.factorial(n)/(np.math.factorial(x[1])*np.math.factorial(n-x[1])))*(p**k[1])*(q**(n-k[1]))\n",
    "p2 = (np.math.factorial(n)/(np.math.factorial(x[2])*np.math.factorial(n-x[2])))*(p**k[2])*(q**(n-k[2]))\n",
    "p3 = (np.math.factorial(n)/(np.math.factorial(x[3])*np.math.factorial(n-x[3])))*(p**k[3])*(q**(n-k[3]))\n",
    "p4 = (np.math.factorial(n)/(np.math.factorial(x[4])*np.math.factorial(n-x[4])))*(p**k[4])*(q**(n-k[4]))\n",
    "p5 = (np.math.factorial(n)/(np.math.factorial(x[5])*np.math.factorial(n-x[5])))*(p**k[5])*(q**(n-k[5]))"
   ]
  },
  {
   "cell_type": "code",
   "execution_count": 148,
   "metadata": {},
   "outputs": [
    {
     "name": "stdout",
     "output_type": "stream",
     "text": [
      "P(X = 0) = 0.2373046875\n",
      "P(X = 1) = 0.3955078125\n",
      "P(X = 2) = 0.263671875\n",
      "P(X = 3) = 0.087890625\n",
      "P(X = 4) = 0.0146484375\n",
      "P(X = 5) = 0.0009765625\n",
      "P = 1.0\n"
     ]
    }
   ],
   "source": [
    "print(f'P(X = 0) = {(np.math.factorial(n)/(np.math.factorial(x[0])*np.math.factorial(n-x[0])))*(p**k[0])*(q**(n-k[0]))}')\n",
    "print(f'P(X = 1) = {(np.math.factorial(n)/(np.math.factorial(x[1])*np.math.factorial(n-x[1])))*(p**k[1])*(q**(n-k[1]))}')\n",
    "print(f'P(X = 2) = {(np.math.factorial(n)/(np.math.factorial(x[2])*np.math.factorial(n-x[2])))*(p**k[2])*(q**(n-k[2]))}')\n",
    "print(f'P(X = 3) = {(np.math.factorial(n)/(np.math.factorial(x[3])*np.math.factorial(n-x[3])))*(p**k[3])*(q**(n-k[3]))}')\n",
    "print(f'P(X = 4) = {(np.math.factorial(n)/(np.math.factorial(x[4])*np.math.factorial(n-x[4])))*(p**k[4])*(q**(n-k[4]))}')\n",
    "print(f'P(X = 5) = {(np.math.factorial(n)/(np.math.factorial(x[5])*np.math.factorial(n-x[5])))*(p**k[5])*(q**(n-k[5]))}')\n",
    "print(f'P = {p0+p1+p2+p3+p4+p5}')"
   ]
  },
  {
   "cell_type": "markdown",
   "metadata": {},
   "source": [
    "Закон распределения числа правильных ответов при простом угадывании:\n",
    "\n",
    "<table border=\"3\">\n",
    "    <tr>\n",
    "        <th>$x$</th>\n",
    "        <td>0</td>\n",
    "        <td>1</td>\n",
    "        <td>2</td>\n",
    "        <td>3</td>\n",
    "        <td>4</td>\n",
    "        <td>5</td>\n",
    "    </tr>\n",
    "    <tr>\n",
    "        <th>$P(X = x)$</th>\n",
    "        <td>0.2373046875</td>\n",
    "        <td>0.3955078125</td>\n",
    "        <td>0.263671875</td>\n",
    "        <td>0.087890625</td>\n",
    "        <td>0.0146484375</td>\n",
    "        <td>0.0009765625</td>\n",
    "    </tr>\n",
    "</table>"
   ]
  },
  {
   "cell_type": "code",
   "execution_count": 149,
   "metadata": {},
   "outputs": [],
   "source": [
    "x_probabilities = np.array([0.2373046875, 0.3955078125, 0.263671875, \n",
    "                            0.087890625, 0.0146484375, 0.0009765625])\n",
    "x_values = np.array([0, 1, 2, 3, 4, 5])"
   ]
  },
  {
   "cell_type": "markdown",
   "metadata": {},
   "source": [
    "__Математическое ожидание__ для биномиально распределенной дискретной величины можно вычислить по формуле: \n",
    "\n",
    "$$M(X) = np$$\n",
    "\n"
   ]
  },
  {
   "cell_type": "code",
   "execution_count": 150,
   "metadata": {},
   "outputs": [
    {
     "name": "stdout",
     "output_type": "stream",
     "text": [
      "Математическое ожидание: 1.25\n"
     ]
    }
   ],
   "source": [
    "m = x_values.dot(x_probabilities)\n",
    "print (f'Математическое ожидание: {m}')"
   ]
  },
  {
   "cell_type": "markdown",
   "metadata": {},
   "source": [
    "__Дисперсия__ является мерой разброса случайной величины относительно ее среднего значения. Дисперсия для биномиально распределенной дискретной величины вычисляется так: \n",
    "\n",
    "$$D(X) = np(1-p)$$\n",
    "\n",
    "__Дисперсией__ случайной величины $X$ называется математическое ожидание квадрата отклонения случайной величины от ее математического ожидания:\n",
    "$$D(X) = M \\left( (X - M(X))^2 \\right).$$\n",
    "\n",
    "Oпределим случайную величину $Y = X - M(X)$. Она будет принимать значения:"
   ]
  },
  {
   "cell_type": "code",
   "execution_count": 151,
   "metadata": {},
   "outputs": [
    {
     "name": "stdout",
     "output_type": "stream",
     "text": [
      "[-1.25 -0.25  0.75  1.75  2.75  3.75]\n"
     ]
    }
   ],
   "source": [
    "y_values = x_values - m\n",
    "print(y_values)"
   ]
  },
  {
   "cell_type": "markdown",
   "metadata": {},
   "source": [
    "Bозведем эту величину в квадрат, тем самым, получим новую случайную величину $Z$ со все еще таким же распределением вероятностей:"
   ]
  },
  {
   "cell_type": "code",
   "execution_count": 152,
   "metadata": {},
   "outputs": [
    {
     "name": "stdout",
     "output_type": "stream",
     "text": [
      "[ 1.5625  0.0625  0.5625  3.0625  7.5625 14.0625]\n"
     ]
    }
   ],
   "source": [
    "z_values = y_values ** 2\n",
    "\n",
    "print(z_values)"
   ]
  },
  {
   "cell_type": "code",
   "execution_count": 153,
   "metadata": {},
   "outputs": [
    {
     "name": "stdout",
     "output_type": "stream",
     "text": [
      "Дисперсия случайной величины X равна: 0.9682458365518543\n"
     ]
    }
   ],
   "source": [
    "print (f'Дисперсия случайной величины X равна: {np.math.sqrt(z_values.dot(x_probabilities))}')"
   ]
  },
  {
   "cell_type": "markdown",
   "metadata": {},
   "source": [
    "### Задача 2\n",
    " \n",
    "Вероятность попадания в цель при одном выстреле равна 0.01. Какова вероятность того, что число попаданий при 200 выстрелах будет не менее 5 и не более 10?\n"
   ]
  },
  {
   "cell_type": "markdown",
   "metadata": {},
   "source": [
    "$$P(X = k) = \\dfrac{a^k e ^{-a}}{k!}.$$\n",
    "Поскольку мы имеем дело со счётчиком (число попаданий), мы можем допустить, что рассматриваемая случайная величина имеет распределение Пуассона. Чтобы найти её параметр $a$, вспомним, что чем выше число экспериментов, тем больше биномиальное распределение \"похоже\" на распределение Пуассона с параметром $a = np$. В нашем случае $a = 200 \\cdot 0.01 = 2$. Итак,\n",
    "\n",
    "$$P(X = 5) = \\dfrac{2^{5} \\cdot e^{-2}}{5!} \\approx 0.03608940886309672.$$"
   ]
  },
  {
   "cell_type": "code",
   "execution_count": 154,
   "metadata": {},
   "outputs": [
    {
     "data": {
      "text/plain": [
       "0.03608940886309672"
      ]
     },
     "execution_count": 154,
     "metadata": {},
     "output_type": "execute_result"
    }
   ],
   "source": [
    "a = 2\n",
    "k = 5\n",
    "\n",
    "(a ** k) * (np.exp(-a)) / np.math.factorial(k)"
   ]
  },
  {
   "cell_type": "markdown",
   "metadata": {},
   "source": [
    "Для решения нужно сложить несколько вероятностей. Вероятность получить не менее 5 и не более 10 предполагает получение от 5 до 10 попаданий:\n",
    "$$P(5 \\leq X \\leq 10) = \\displaystyle\\sum_{i = 5}^{10} \\dfrac{2^{i} e^{-2}}{i!}$$\n"
   ]
  },
  {
   "cell_type": "code",
   "execution_count": 155,
   "metadata": {},
   "outputs": [],
   "source": [
    "def poisson_proba(k, lambda_):\n",
    "    \n",
    "    return (lambda_ ** k) * (np.exp(-lambda_)) / np.math.factorial(k)"
   ]
  },
  {
   "cell_type": "code",
   "execution_count": 156,
   "metadata": {},
   "outputs": [],
   "source": [
    "lambda_ = a"
   ]
  },
  {
   "cell_type": "code",
   "execution_count": 157,
   "metadata": {},
   "outputs": [],
   "source": [
    "hits = [5,6,7,8,9,10]"
   ]
  },
  {
   "cell_type": "markdown",
   "metadata": {},
   "source": [
    "Bероятность того, что число попаданий при 200 выстрелах будет не менее 5 и не более 10:"
   ]
  },
  {
   "cell_type": "code",
   "execution_count": 158,
   "metadata": {},
   "outputs": [
    {
     "data": {
      "text/plain": [
       "0.052644709119342686"
      ]
     },
     "execution_count": 158,
     "metadata": {},
     "output_type": "execute_result"
    }
   ],
   "source": [
    "sum(poisson_proba(k=i, lambda_=lambda_) for i in hits)"
   ]
  },
  {
   "cell_type": "markdown",
   "metadata": {},
   "source": [
    "### Задача 3\n",
    " \n",
    "В условиях предыдущей задачи сколько выстрелов нужно сделать чтобы быть уверенным с вероятностью 0.9, что хотя бы 10 раз будет совершено попадание?\n",
    "Подсказка. Как посчитать P(X >= k) для величины X, имеющей распределение Пуассона? Здесь предстоит немножко покодить."
   ]
  },
  {
   "cell_type": "markdown",
   "metadata": {},
   "source": [
    "Мы знаем, что сумма вероятностей случайной величины всегда равна $1$. Значит, вероятность получить более 10 попаданий равна:\n",
    "\n",
    "$$P(X >= 10) = 1 - P(X < 10)$$\n",
    "\n",
    "Нам нужно быть уверенным с вероятностью 0.9, что хотя бы 10 раз будет совершено попадание, т.е.:\n",
    "\n",
    "$$P(X >= 10) = 0.9$$ \n",
    "\n",
    "Найдем P(X < 10):\n",
    "\n",
    "$$P(X >= 10) = 0.9$$ \n",
    "\n",
    "$$1 - P(X < 10) = 0.9$$\n",
    "\n",
    "$$P(X < 10) = 1 - 0.9 = 0.1$$\n",
    "\n"
   ]
  },
  {
   "cell_type": "markdown",
   "metadata": {},
   "source": [
    "Для решения нужно сложить несколько вероятностей. Вероятность получить менее 10 предполагает получение от 0 до 9 попаданий:\n",
    "$$P(X < 10) = \\displaystyle\\sum_{i = 0}^{9} \\dfrac{?^{i} e^{-?}}{i!}$$\n",
    "\n"
   ]
  },
  {
   "cell_type": "markdown",
   "metadata": {},
   "source": [
    "Значит:\n",
    "\n",
    "$$\\displaystyle\\sum_{i = 0}^{9} \\dfrac{B^{i} e^{-B}}{i!} = 0.1$$"
   ]
  },
  {
   "cell_type": "markdown",
   "metadata": {},
   "source": [
    "Найдем b (мат.ожидание):"
   ]
  },
  {
   "cell_type": "code",
   "execution_count": 159,
   "metadata": {},
   "outputs": [
    {
     "name": "stdout",
     "output_type": "stream",
     "text": [
      "при b = 2 c = 0.99995\n",
      "при b = 3 c = 0.9989\n",
      "при b = 4 c = 0.99187\n",
      "при b = 5 c = 0.96817\n",
      "при b = 6 c = 0.91608\n",
      "при b = 7 c = 0.8305\n",
      "при b = 8 c = 0.71662\n",
      "при b = 9 c = 0.58741\n",
      "при b = 10 c = 0.45793\n",
      "при b = 11 c = 0.34051\n",
      "при b = 12 c = 0.24239\n",
      "при b = 13 c = 0.16581\n",
      "при b = 14 c = 0.1094\n",
      "при b = 15 c = 0.06985\n",
      "при b = 16 c = 0.0433\n",
      "при b = 17 c = 0.02612\n",
      "при b = 18 c = 0.01538\n",
      "при b = 19 c = 0.00886\n"
     ]
    }
   ],
   "source": [
    "for b in range(2,20,1):\n",
    "    c = sum(poisson_proba(k=i, lambda_= b) for i in range(10))\n",
    "    print(f'при b = {b} c = {round(c,5)}')"
   ]
  },
  {
   "cell_type": "markdown",
   "metadata": {},
   "source": [
    "Необходимое нам значение с принимает при b (мат.ожидание) = 14"
   ]
  },
  {
   "cell_type": "code",
   "execution_count": 160,
   "metadata": {},
   "outputs": [
    {
     "name": "stdout",
     "output_type": "stream",
     "text": [
      "1400.0\n"
     ]
    }
   ],
   "source": [
    "#s (число выстрелов)*0.01 = 14\n",
    "s = 14/0.01\n",
    "print(s)"
   ]
  },
  {
   "cell_type": "code",
   "execution_count": 161,
   "metadata": {},
   "outputs": [
    {
     "name": "stdout",
     "output_type": "stream",
     "text": [
      "1400.0 выстрелов нужно сделать \n",
      "чтобы быть уверенным с вероятностью 0.9, что хотя бы 10 раз будет совершено попадание\n"
     ]
    }
   ],
   "source": [
    "print(f'{s} выстрелов нужно сделать \\nчтобы быть уверенным с вероятностью 0.9, что хотя бы 10 раз будет совершено попадание')"
   ]
  },
  {
   "cell_type": "code",
   "execution_count": null,
   "metadata": {},
   "outputs": [],
   "source": []
  }
 ],
 "metadata": {
  "kernelspec": {
   "display_name": "Python 3",
   "language": "python",
   "name": "python3"
  },
  "language_info": {
   "codemirror_mode": {
    "name": "ipython",
    "version": 3
   },
   "file_extension": ".py",
   "mimetype": "text/x-python",
   "name": "python",
   "nbconvert_exporter": "python",
   "pygments_lexer": "ipython3",
   "version": "3.8.3"
  }
 },
 "nbformat": 4,
 "nbformat_minor": 4
}
