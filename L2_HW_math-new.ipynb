{
 "cells": [
  {
   "cell_type": "markdown",
   "metadata": {},
   "source": [
    "### Задача 1\n",
    " \n",
    "Контрольная работа состоит из пяти вопросов. На каждый вопрос приведено четыре варианта ответа, один из которых правильный. Составьте закон распределения числа правильных ответов при простом угадывании. Найдите M(X), D(X).\n"
   ]
  },
  {
   "cell_type": "code",
   "execution_count": 25,
   "metadata": {},
   "outputs": [],
   "source": [
    "import numpy as np"
   ]
  },
  {
   "cell_type": "markdown",
   "metadata": {},
   "source": [
    "Рассмотрим случайную величину, равную числу угадываниия правильных ответов"
   ]
  },
  {
   "cell_type": "code",
   "execution_count": 26,
   "metadata": {},
   "outputs": [
    {
     "data": {
      "text/plain": [
       "1"
      ]
     },
     "execution_count": 26,
     "metadata": {},
     "output_type": "execute_result"
    }
   ],
   "source": [
    "np.random.binomial(n=5, p=0.25)"
   ]
  },
  {
   "cell_type": "markdown",
   "metadata": {},
   "source": [
    "Повторим этот эксперимент 20 раз и посмотрим, какие получаются значения"
   ]
  },
  {
   "cell_type": "code",
   "execution_count": 27,
   "metadata": {},
   "outputs": [
    {
     "data": {
      "text/plain": [
       "array([1, 2, 0, 1, 0, 1, 2, 0, 1, 1, 1, 1, 3, 2, 3, 1, 2, 1, 3, 2])"
      ]
     },
     "execution_count": 27,
     "metadata": {},
     "output_type": "execute_result"
    }
   ],
   "source": [
    "np.random.binomial(n=5, p=0.25, size=20)"
   ]
  },
  {
   "cell_type": "markdown",
   "metadata": {},
   "source": [
    " __Биномиальный закон__ описывает распределение случайной величины $X$, задающей число наступлений события $A$ в ходе проведения $n$ независимых опытов. Биномиальный закон распределения описывается __формулой Бернулли__:\n",
    "\n",
    "$$P(X = k) = C_n^k p^k (1 - p)^{n - k}$$\n"
   ]
  },
  {
   "cell_type": "markdown",
   "metadata": {},
   "source": [
    "Принимаемые значения данной случайной величины будут: $x_1 = 0$, $x_2 = 1$, $x_3 = 2$, $x_4 = 3$, $x_5 = 4$, $x_6 = 5$.\n",
    "\n",
    "Посчитаем вероятность того, что $X = 0$, т.е. что из пяти вопросов нет ни одного правильнoго ответа:\n",
    "\n",
    "$$P(X = 0) = C_n^k p^k (1 - p)^{n - k} = C_5^0 \\cdot 0.25^0 \\cdot 0.75^5 = \\frac{5!}{0! \\: (5-0)!} \\cdot 0.25^0 \\cdot 0.75^5 = 1 \\cdot 1 \\cdot 0.2373046875 = 0.2373046875.$$\n",
    "\n",
    "\n",
    "Посчитаем вероятность каждого значения:"
   ]
  },
  {
   "cell_type": "code",
   "execution_count": 28,
   "metadata": {},
   "outputs": [],
   "source": [
    "x = [0, 1, 2, 3, 4, 5]\n",
    "k = [0, 1, 2, 3, 4, 5] \n",
    "n = 5"
   ]
  },
  {
   "cell_type": "code",
   "execution_count": 29,
   "metadata": {},
   "outputs": [],
   "source": [
    "p = 0.25\n",
    "q = 0.75"
   ]
  },
  {
   "cell_type": "code",
   "execution_count": 30,
   "metadata": {},
   "outputs": [],
   "source": [
    "p0 = (np.math.factorial(n)/(np.math.factorial(x[0])*np.math.factorial(n-x[0])))*(p**k[0])*(q**(n-k[0]))\n",
    "p1 = (np.math.factorial(n)/(np.math.factorial(x[1])*np.math.factorial(n-x[1])))*(p**k[1])*(q**(n-k[1]))\n",
    "p2 = (np.math.factorial(n)/(np.math.factorial(x[2])*np.math.factorial(n-x[2])))*(p**k[2])*(q**(n-k[2]))\n",
    "p3 = (np.math.factorial(n)/(np.math.factorial(x[3])*np.math.factorial(n-x[3])))*(p**k[3])*(q**(n-k[3]))\n",
    "p4 = (np.math.factorial(n)/(np.math.factorial(x[4])*np.math.factorial(n-x[4])))*(p**k[4])*(q**(n-k[4]))\n",
    "p5 = (np.math.factorial(n)/(np.math.factorial(x[5])*np.math.factorial(n-x[5])))*(p**k[5])*(q**(n-k[5]))"
   ]
  },
  {
   "cell_type": "code",
   "execution_count": 31,
   "metadata": {},
   "outputs": [
    {
     "name": "stdout",
     "output_type": "stream",
     "text": [
      "P(X = 0) = 0.2373046875\n",
      "P(X = 1) = 0.3955078125\n",
      "P(X = 2) = 0.263671875\n",
      "P(X = 3) = 0.087890625\n",
      "P(X = 4) = 0.0146484375\n",
      "P(X = 5) = 0.0009765625\n",
      "P = 1.0\n"
     ]
    }
   ],
   "source": [
    "print(f'P(X = 0) = {(np.math.factorial(n)/(np.math.factorial(x[0])*np.math.factorial(n-x[0])))*(p**k[0])*(q**(n-k[0]))}')\n",
    "print(f'P(X = 1) = {(np.math.factorial(n)/(np.math.factorial(x[1])*np.math.factorial(n-x[1])))*(p**k[1])*(q**(n-k[1]))}')\n",
    "print(f'P(X = 2) = {(np.math.factorial(n)/(np.math.factorial(x[2])*np.math.factorial(n-x[2])))*(p**k[2])*(q**(n-k[2]))}')\n",
    "print(f'P(X = 3) = {(np.math.factorial(n)/(np.math.factorial(x[3])*np.math.factorial(n-x[3])))*(p**k[3])*(q**(n-k[3]))}')\n",
    "print(f'P(X = 4) = {(np.math.factorial(n)/(np.math.factorial(x[4])*np.math.factorial(n-x[4])))*(p**k[4])*(q**(n-k[4]))}')\n",
    "print(f'P(X = 5) = {(np.math.factorial(n)/(np.math.factorial(x[5])*np.math.factorial(n-x[5])))*(p**k[5])*(q**(n-k[5]))}')\n",
    "print(f'P = {p0+p1+p2+p3+p4+p5}')"
   ]
  },
  {
   "cell_type": "markdown",
   "metadata": {},
   "source": [
    "Закон распределения числа правильных ответов при простом угадывании:\n",
    "\n",
    "<table border=\"3\">\n",
    "    <tr>\n",
    "        <th>$x$</th>\n",
    "        <td>0</td>\n",
    "        <td>1</td>\n",
    "        <td>2</td>\n",
    "        <td>3</td>\n",
    "        <td>4</td>\n",
    "        <td>5</td>\n",
    "    </tr>\n",
    "    <tr>\n",
    "        <th>$P(X = x)$</th>\n",
    "        <td>0.2373046875</td>\n",
    "        <td>0.3955078125</td>\n",
    "        <td>0.263671875</td>\n",
    "        <td>0.087890625</td>\n",
    "        <td>0.0146484375</td>\n",
    "        <td>0.0009765625</td>\n",
    "    </tr>\n",
    "</table>"
   ]
  },
  {
   "cell_type": "code",
   "execution_count": 32,
   "metadata": {},
   "outputs": [],
   "source": [
    "x_probabilities = np.array([0.2373046875, 0.3955078125, 0.263671875, \n",
    "                            0.087890625, 0.0146484375, 0.0009765625])\n",
    "x_values = np.array([0, 1, 2, 3, 4, 5])"
   ]
  },
  {
   "cell_type": "code",
   "execution_count": 33,
   "metadata": {},
   "outputs": [
    {
     "data": {
      "text/plain": [
       "Text(0, 0.5, 'вероятность каждого значения')"
      ]
     },
     "execution_count": 33,
     "metadata": {},
     "output_type": "execute_result"
    },
    {
     "data": {
      "image/png": "[encoded data removed]",
      "text/plain": [
       "<Figure size 432x288 with 1 Axes>"
      ]
     },
     "metadata": {
      "needs_background": "light"
     },
     "output_type": "display_data"
    }
   ],
   "source": [
    "import matplotlib.pyplot as plt\n",
    "plt.plot(x_values, x_probabilities)\n",
    "plt.title('Закон распределения числа правильных ответов при простом угадывании')\n",
    "plt.xlabel('число правильных ответов')\n",
    "plt.ylabel('вероятность каждого значения')"
   ]
  },
  {
   "cell_type": "markdown",
   "metadata": {},
   "source": [
    "__Математическое ожидание__ для биномиально распределенной дискретной величины можно вычислить по формуле: \n",
    "\n",
    "$$M(X) = np$$\n",
    "\n"
   ]
  },
  {
   "cell_type": "code",
   "execution_count": 34,
   "metadata": {},
   "outputs": [
    {
     "name": "stdout",
     "output_type": "stream",
     "text": [
      "Математическое ожидание: 1.25\n"
     ]
    }
   ],
   "source": [
    "m = x_values.dot(x_probabilities)\n",
    "print (f'Математическое ожидание: {m}')"
   ]
  },
  {
   "cell_type": "markdown",
   "metadata": {},
   "source": [
    "__Дисперсия__ является мерой разброса случайной величины относительно ее среднего значения. Дисперсия для биномиально распределенной дискретной величины вычисляется так: \n",
    "\n",
    "$$D(X) = np(1-p)$$\n",
    "\n",
    "__Дисперсией__ случайной величины $X$ называется математическое ожидание квадрата отклонения случайной величины от ее математического ожидания:\n",
    "$$D(X) = M \\left( (X - M(X))^2 \\right).$$\n",
    "\n",
    "Oпределим случайную величину $Y = X - M(X)$. Она будет принимать значения:"
   ]
  },
  {
   "cell_type": "code",
   "execution_count": 35,
   "metadata": {},
   "outputs": [
    {
     "name": "stdout",
     "output_type": "stream",
     "text": [
      "[-1.25 -0.25  0.75  1.75  2.75  3.75]\n"
     ]
    }
   ],
   "source": [
    "y_values = x_values - m\n",
    "print(y_values)"
   ]
  },
  {
   "cell_type": "markdown",
   "metadata": {},
   "source": [
    "Bозведем эту величину в квадрат, тем самым, получим новую случайную величину $Z$ со все еще таким же распределением вероятностей:"
   ]
  },
  {
   "cell_type": "code",
   "execution_count": 36,
   "metadata": {},
   "outputs": [
    {
     "name": "stdout",
     "output_type": "stream",
     "text": [
      "[ 1.5625  0.0625  0.5625  3.0625  7.5625 14.0625]\n"
     ]
    }
   ],
   "source": [
    "z_values = y_values ** 2\n",
    "\n",
    "print(z_values)"
   ]
  },
  {
   "cell_type": "code",
   "execution_count": 37,
   "metadata": {},
   "outputs": [
    {
     "name": "stdout",
     "output_type": "stream",
     "text": [
      "Дисперсия случайной величины X равна: 0.9682458365518543\n"
     ]
    }
   ],
   "source": [
    "print (f'Дисперсия случайной величины X равна: {np.math.sqrt(z_values.dot(x_probabilities))}')"
   ]
  },
  {
   "cell_type": "markdown",
   "metadata": {},
   "source": [
    "### Задача 2\n",
    " \n",
    "Вероятность попадания в цель при одном выстреле равна 0.01. Какова вероятность того, что число попаданий при 200 выстрелах будет не менее 5 и не более 10?\n"
   ]
  },
  {
   "cell_type": "markdown",
   "metadata": {},
   "source": [
    "$$P(X = k) = \\dfrac{a^k e ^{-a}}{k!}.$$\n",
    "Поскольку мы имеем дело со счётчиком (число попаданий), мы можем допустить, что рассматриваемая случайная величина имеет распределение Пуассона. Чтобы найти её параметр $a$, вспомним, что чем выше число экспериментов, тем больше биномиальное распределение \"похоже\" на распределение Пуассона с параметром $a = np$. В нашем случае $a = 200 \\cdot 0.01 = 2$. Итак,\n",
    "\n",
    "$$P(X = 5) = \\dfrac{2^{5} \\cdot e^{-2}}{5!} \\approx 0.03608940886309672.$$"
   ]
  },
  {
   "cell_type": "code",
   "execution_count": 38,
   "metadata": {},
   "outputs": [
    {
     "name": "stdout",
     "output_type": "stream",
     "text": [
      "p(k=5): 0.03608940886309672\n",
      "p(k=6): 0.012029802954365574\n",
      "p(k=7): 0.0034370865583901638\n",
      "p(k=8): 0.0008592716395975409\n",
      "p(k=9): 0.00019094925324389798\n",
      "p(k=10): 3.8189850648779595e-05\n",
      "0.052644709119342686\n"
     ]
    }
   ],
   "source": [
    "a = 2\n",
    "k = [5, 6, 7, 8, 9, 10]\n",
    "print(f'p(k=5): {(a ** k[0]) * (np.exp(-a)) / np.math.factorial(k[0])}')\n",
    "print(f'p(k=6): {(a ** k[1]) * (np.exp(-a)) / np.math.factorial(k[1])}')\n",
    "print(f'p(k=7): {(a ** k[2]) * (np.exp(-a)) / np.math.factorial(k[2])}')\n",
    "print(f'p(k=8): {(a ** k[3]) * (np.exp(-a)) / np.math.factorial(k[3])}')\n",
    "print(f'p(k=9): {(a ** k[4]) * (np.exp(-a)) / np.math.factorial(k[4])}')\n",
    "print(f'p(k=10): {(a ** k[5]) * (np.exp(-a)) / np.math.factorial(k[5])}')\n",
    "print(f'{(0.03608940886309672+0.012029802954365574+0.0034370865583901638+0.0008592716395975409+0.00019094925324389798+3.8189850648779595e-05)}')"
   ]
  },
  {
   "cell_type": "markdown",
   "metadata": {},
   "source": [
    "Для решения нужно сложить несколько вероятностей. Вероятность получить не менее 5 и не более 10 предполагает получение от 5 до 10 попаданий:\n",
    "$$P(5 \\leq X \\leq 10) = \\displaystyle\\sum_{i = 5}^{10} \\dfrac{2^{i} e^{-2}}{i!}$$\n"
   ]
  },
  {
   "cell_type": "code",
   "execution_count": 39,
   "metadata": {},
   "outputs": [],
   "source": [
    "def bin_probab(k, a):\n",
    "    \n",
    "    return (a ** k) * (np.exp(-a)) / np.math.factorial(k)"
   ]
  },
  {
   "cell_type": "code",
   "execution_count": 40,
   "metadata": {},
   "outputs": [],
   "source": [
    "hits = [5,6,7,8,9,10]"
   ]
  },
  {
   "cell_type": "markdown",
   "metadata": {},
   "source": [
    "Bероятность того, что число попаданий при 200 выстрелах будет не менее 5 и не более 10:"
   ]
  },
  {
   "cell_type": "code",
   "execution_count": 41,
   "metadata": {},
   "outputs": [
    {
     "data": {
      "text/plain": [
       "0.052644709119342686"
      ]
     },
     "execution_count": 41,
     "metadata": {},
     "output_type": "execute_result"
    }
   ],
   "source": [
    "sum(bin_probab(k=i, a=a) for i in hits)"
   ]
  },
  {
   "cell_type": "code",
   "execution_count": 42,
   "metadata": {},
   "outputs": [
    {
     "name": "stdout",
     "output_type": "stream",
     "text": [
      "Bероятность того, что число попаданий при 200 выстрелах будет не менее 5 и не более 10: 0.052644709119342686\n"
     ]
    }
   ],
   "source": [
    "print(f'Bероятность того, что число попаданий при 200 выстрелах будет не менее 5 и не более 10: {sum(bin_probab(k=i, a=a) for i in hits)}')"
   ]
  },
  {
   "cell_type": "markdown",
   "metadata": {},
   "source": [
    "### Задача 3\n",
    " \n",
    "В условиях предыдущей задачи сколько выстрелов нужно сделать чтобы быть уверенным с вероятностью 0.9, что хотя бы 10 раз будет совершено попадание?\n",
    "Подсказка. Как посчитать P(X >= k) для величины X, имеющей распределение Пуассона? Здесь предстоит немножко покодить."
   ]
  },
  {
   "cell_type": "markdown",
   "metadata": {},
   "source": [
    "Нам нужно быть уверенным с вероятностью 0.9, что хотя бы 10 раз будет совершено попадание, т.е.:\n",
    "\n",
    "$$P(X >= 10) = 0.9$$ \n"
   ]
  },
  {
   "cell_type": "markdown",
   "metadata": {},
   "source": [
    "__Сочетание из 𝑛 элементов по 𝑘 элементов__ — это неупорядоченный набор из 𝑘 элементов, выбранных из множества, содержащего  𝑛 элементов."
   ]
  },
  {
   "cell_type": "code",
   "execution_count": 43,
   "metadata": {},
   "outputs": [],
   "source": [
    "def combinations(n, k):\n",
    "    \n",
    "    return np.math.factorial(n)//(np.math.factorial(k) * np.math.factorial(n-k))"
   ]
  },
  {
   "cell_type": "markdown",
   "metadata": {},
   "source": [
    "Пусть имеется некоторое событие $A$, которое наступает с вероятностью $p$. __Биномиальный закон__ описывает распределение случайной величины $X$, задающей число наступлений события $A$ в ходе проведения $n$ независимых опытов.\n",
    "\n",
    "Биномиальный закон распределения описывается __формулой Бернулли__:\n",
    "\n",
    "$$P(X = k) = C_n^k p^k (1 - p)^{n - k}$$"
   ]
  },
  {
   "cell_type": "code",
   "execution_count": 44,
   "metadata": {},
   "outputs": [],
   "source": [
    "def bin_comb(n, k, p):\n",
    "    \n",
    "    return combinations(n, k)*(p**k) * ((1-p)**(n-k))"
   ]
  },
  {
   "cell_type": "code",
   "execution_count": 45,
   "metadata": {},
   "outputs": [],
   "source": [
    "p = 0.01\n",
    "n = 10\n",
    "k = 10\n",
    "b = 0"
   ]
  },
  {
   "cell_type": "markdown",
   "metadata": {},
   "source": [
    "Для решения нужно сложить несколько вероятностей. Вероятность получить менее 10 предполагает получение от 0 до 9 попаданий\n"
   ]
  },
  {
   "cell_type": "markdown",
   "metadata": {},
   "source": [
    "Мы знаем, что сумма вероятностей случайной величины всегда равна $1$. Значит, вероятность получить более 10 попаданий равна:\n",
    "\n",
    "$$P(X >= 10) = 1 - P(X < 10)$$"
   ]
  },
  {
   "cell_type": "code",
   "execution_count": 46,
   "metadata": {},
   "outputs": [],
   "source": [
    "def bin_probab_obr(n, k, p):\n",
    "    \n",
    "    return 1 - sum(bin_comb(n, i, p) for i in range(k))"
   ]
  },
  {
   "cell_type": "code",
   "execution_count": 47,
   "metadata": {},
   "outputs": [
    {
     "name": "stdout",
     "output_type": "stream",
     "text": [
      "1418 0.9000040527998662 10 0.01\n"
     ]
    }
   ],
   "source": [
    "while b < 0.9:\n",
    "    n += 1\n",
    "    b = bin_probab_obr(n, k, p)\n",
    "    \n",
    "print(n, b, k, p)"
   ]
  },
  {
   "cell_type": "code",
   "execution_count": 48,
   "metadata": {},
   "outputs": [
    {
     "name": "stdout",
     "output_type": "stream",
     "text": [
      "1418 выстрелов нужно сделать \n",
      "чтобы быть уверенным с вероятностью 0.9, что хотя бы 10 раз будет совершено попадание\n"
     ]
    }
   ],
   "source": [
    "print(f'{n} выстрелов нужно сделать \\nчтобы быть уверенным с вероятностью 0.9, что хотя бы 10 раз будет совершено попадание')"
   ]
  },
  {
   "cell_type": "code",
   "execution_count": null,
   "metadata": {},
   "outputs": [],
   "source": []
  }
 ],
 "metadata": {
  "kernelspec": {
   "display_name": "Python 3",
   "language": "python",
   "name": "python3"
  },
  "language_info": {
   "codemirror_mode": {
    "name": "ipython",
    "version": 3
   },
   "file_extension": ".py",
   "mimetype": "text/x-python",
   "name": "python",
   "nbconvert_exporter": "python",
   "pygments_lexer": "ipython3",
   "version": "3.8.3"
  }
 },
 "nbformat": 4,
 "nbformat_minor": 4
}
