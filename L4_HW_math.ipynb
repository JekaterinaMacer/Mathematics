{
 "cells": [
  {
   "cell_type": "code",
   "execution_count": 104,
   "metadata": {},
   "outputs": [],
   "source": [
    "import numpy as np\n",
    "import pandas as pd\n",
    "from matplotlib import pyplot as plt\n",
    "from scipy import stats"
   ]
  },
  {
   "cell_type": "markdown",
   "metadata": {},
   "source": [
    "### Задача 1\n",
    " \n",
    "Коробки с шоколадом упаковываются автоматически. Их средняя масса равна 1.06 кг. Известно, что 5% коробок имеют массу, меньшую 1 кг. Найдите: \n",
    "\n",
    "а) среднее квадратическое отклонение массы коробки, \n",
    "\n",
    "б) процент коробок, имеющих массу больше 1.1 кг.\n",
    "\n",
    "Подсказка. \n",
    "1. Можно считать, что распределение массы коробки нормальное. \n",
    "2. Найдите такое значение scale, для которого значение cdf(x=1, loc=1.06, scale=scale) близко к 0.05. Точности 0.0001 будет достаточно.\n",
    "\n",
    "Одним из свойств нормального распределения является то, что значения среднего, медианы и моды совпадают\n"
   ]
  },
  {
   "cell_type": "markdown",
   "metadata": {},
   "source": [
    "Математическое ожидание и дисперсия нормального распределения:\n",
    "\n",
    "$$M(X) = a, \\text{ } D(X) = \\sigma^2.$$"
   ]
  },
  {
   "cell_type": "code",
   "execution_count": 105,
   "metadata": {},
   "outputs": [
    {
     "name": "stdout",
     "output_type": "stream",
     "text": [
      "cdf \t scale\n",
      "0.4522 \t 0.5\n",
      "0.4052 \t 0.25\n",
      "0.3156 \t 0.125\n",
      "0.1685 \t 0.0625\n",
      "0.0274 \t 0.03125\n",
      "0.1003 \t 0.04688\n",
      "0.0623 \t 0.03906\n",
      "0.0439 \t 0.03516\n",
      "0.053 \t 0.03711\n",
      "0.0484 \t 0.03613\n",
      "0.0507 \t 0.03662\n",
      "0.0495 \t 0.03638\n",
      "0.0501 \t 0.0365\n",
      "0.0498 \t 0.03644\n",
      "0.05 \t 0.03647\n",
      "среднее квадратическое отклонение массы коробки =  0.03647\n",
      "функция распределения = вероятности =  0.04996\n"
     ]
    }
   ],
   "source": [
    "loc = 1.06\n",
    "x = 1\n",
    "od = 0\n",
    "do = 1\n",
    "p = 0.05\n",
    "error = 0.0001\n",
    "\n",
    "print('cdf \\t scale')\n",
    "\n",
    "while True:\n",
    "    scale = (od + do)/2\n",
    "    cdf = stats.norm.cdf(x, loc = loc, scale = scale)\n",
    "    print(round(cdf, 4), '\\t', round(scale, 5))\n",
    "    if cdf <= p-error:\n",
    "        od = scale\n",
    "    elif cdf >= p+error:\n",
    "        do = scale\n",
    "    else:\n",
    "        break\n",
    "print('среднее квадратическое отклонение массы коробки = ', round(scale, 5)) \n",
    "\n",
    "#проверка:\n",
    "    \n",
    "print('функция распределения = вероятности = ',  round(stats.norm.cdf(x, loc = loc, scale = scale), 5))"
   ]
  },
  {
   "cell_type": "markdown",
   "metadata": {},
   "source": [
    "\n",
    "$$P(X > 1.1) = 1 - P(X <= 1.1)$$\n",
    "$$P(X <= 1.1) = F(1.1)$$"
   ]
  },
  {
   "cell_type": "code",
   "execution_count": 106,
   "metadata": {},
   "outputs": [
    {
     "name": "stdout",
     "output_type": "stream",
     "text": [
      "процент коробок, имеющих массу больше 1.1 кг =  13.636\n"
     ]
    }
   ],
   "source": [
    "print('процент коробок, имеющих массу больше 1.1 кг = ',  round((1 - stats.norm.cdf(1.1, loc = loc, scale = scale))*100, 3))"
   ]
  },
  {
   "cell_type": "markdown",
   "metadata": {},
   "source": [
    "### Задача 2\n",
    " \n",
    "Коробка содержит 30 конфет. Известно, что масса каждой конфеты распределена равномерно в промежутке от 12 до 14 граммов. Используя центральную предельную теорему, найти вероятность, что масса всей коробки будет: \n",
    "\n",
    "а) меньше 390 граммов, \n",
    "\n",
    "б) больше 395 граммов, \n",
    "\n",
    "в) от 380 до 400 граммов.\n",
    "\n",
    "Массой самой коробки можно пренебречь."
   ]
  },
  {
   "cell_type": "code",
   "execution_count": 107,
   "metadata": {},
   "outputs": [
    {
     "name": "stdout",
     "output_type": "stream",
     "text": [
      "Для равномерного распределения в промежутке [a, b]:\n",
      "1. мат. ожидание равно (a + b) / 2 = 13.0\n",
      "2. дисперсия равна (b - a)^2/12 = 0.3333333333333333\n"
     ]
    }
   ],
   "source": [
    "a = 12\n",
    "b = 14\n",
    "\n",
    "m = (a + b) / 2\n",
    "d = ((b - a) ** 2) / 12\n",
    "\n",
    "print(f'Для равномерного распределения в промежутке [a, b]:\\n1. мат. ожидание равно (a + b) / 2 = {m}\\n2. дисперсия равна (b - a)^2/12 = {d}')"
   ]
  },
  {
   "cell_type": "markdown",
   "metadata": {},
   "source": [
    "- по ЦПТ любое распределение стремится к нормальному,\n",
    "\n",
    "- при действии ЦПТ мат.ожидание норм.закона распределениея будет суммой всех мат.ожиданий нашего равномерного закона распределения"
   ]
  },
  {
   "cell_type": "code",
   "execution_count": 108,
   "metadata": {},
   "outputs": [
    {
     "data": {
      "text/plain": [
       "(390.0, 3.1622776601683795)"
      ]
     },
     "execution_count": 108,
     "metadata": {},
     "output_type": "execute_result"
    }
   ],
   "source": [
    "n = 30\n",
    "mu = m * n\n",
    "scale = np.sqrt(d * n)\n",
    "mu, scale"
   ]
  },
  {
   "cell_type": "markdown",
   "metadata": {},
   "source": [
    "используем ЦПТ:\n",
    "\n",
    "$$P(X < a) = F(a)$$\n",
    "$$P(X > a) = 1 - F(a)$$\n",
    "$$P(a < X < b) = F(b) - F(a)$$"
   ]
  },
  {
   "cell_type": "markdown",
   "metadata": {},
   "source": [
    "вероятность, что масса всей коробки будет:"
   ]
  },
  {
   "cell_type": "code",
   "execution_count": 109,
   "metadata": {},
   "outputs": [
    {
     "name": "stdout",
     "output_type": "stream",
     "text": [
      "а) меньше 390 граммов =  0.5\n"
     ]
    }
   ],
   "source": [
    "print('а) меньше 390 граммов = ',  stats.norm.cdf(390, loc = mu, scale = scale))"
   ]
  },
  {
   "cell_type": "code",
   "execution_count": 110,
   "metadata": {},
   "outputs": [
    {
     "name": "stdout",
     "output_type": "stream",
     "text": [
      "б) больше 395 граммов =  0.056923149003329065\n"
     ]
    }
   ],
   "source": [
    "print('б) больше 395 граммов = ',  1 - stats.norm.cdf(395, loc = mu, scale = scale))"
   ]
  },
  {
   "cell_type": "code",
   "execution_count": 111,
   "metadata": {},
   "outputs": [
    {
     "name": "stdout",
     "output_type": "stream",
     "text": [
      "в) от 380 до 400 граммов =  0.9984345977419975\n"
     ]
    }
   ],
   "source": [
    "print(f'в) от 380 до 400 граммов =  {stats.norm.cdf(400, loc = mu, scale = scale) - stats.norm.cdf(380, loc = mu, scale = scale)}')"
   ]
  },
  {
   "cell_type": "markdown",
   "metadata": {},
   "source": [
    "### Задача 3\n",
    "\n",
    "Задача 3\n",
    "Продемонстрируйте действие центральной предельной теоремы на каком-нибудь распределении на ваш выбор (кроме нормального). Что для этого нужно сделать:\n",
    "1. Выберите несколько значений n (например, 2, 5, 10, 50).\n",
    "2. Для выбранного значения n сгенерируйте 1000 раз выборку размера n из выбранного вами распределения, посчитайте по этой выборке выборочное среднее.\n",
    "3. Изобразите гистограмму из полученных 1000 значений выборочного среднего с аргументом density=True.\n",
    "4. Поверх гистограммы нарисуйте функцию плотности нормального распределения с параметрами из ЦПТ (т.е. mu = M, sigma^2 = D / n, где M - мат. ожидание выбранного вами распределения, D - его дисперсия).\n",
    "При достаточно большом n гистограмма должна соответствовать построенной функции плотности."
   ]
  },
  {
   "cell_type": "code",
   "execution_count": 112,
   "metadata": {},
   "outputs": [
    {
     "data": {
      "text/plain": [
       "[<matplotlib.lines.Line2D at 0x7f8fca819490>]"
      ]
     },
     "execution_count": 112,
     "metadata": {},
     "output_type": "execute_result"
    },
    {
     "data": {
      "image/png": "[encoded data removed]",
      "text/plain": [
       "<Figure size 432x288 with 1 Axes>"
      ]
     },
     "metadata": {
      "needs_background": "light"
     },
     "output_type": "display_data"
    }
   ],
   "source": [
    "a = -10\n",
    "b = 10\n",
    "\n",
    "m = (a + b) / 2\n",
    "d = ((b - a) ** 2) / 12\n",
    "\n",
    "n_samples = 1000\n",
    "\n",
    "def get_mean_samples_uniform(n):\n",
    "    samples = np.random.uniform(a, b, size=(n, n_samples))\n",
    "    \n",
    "    return samples.mean(axis=0)\n",
    "\n",
    "n = 50\n",
    "\n",
    "loc = m\n",
    "scale = np.sqrt(d / n)\n",
    "\n",
    "samples = get_mean_samples_uniform(n)\n",
    "\n",
    "ox = np.linspace(loc - 4 * scale, loc + 4 * scale, 1000)\n",
    "oy = np.array([pdf_normal(loc, scale, x) for x in ox])\n",
    "\n",
    "plt.hist(samples, density=True, bins=20)\n",
    "plt.plot(ox, oy)"
   ]
  },
  {
   "cell_type": "code",
   "execution_count": 113,
   "metadata": {},
   "outputs": [
    {
     "data": {
      "text/plain": [
       "[<matplotlib.lines.Line2D at 0x7f8fcaa0a3a0>]"
      ]
     },
     "execution_count": 113,
     "metadata": {},
     "output_type": "execute_result"
    },
    {
     "data": {
      "image/png": "[encoded data removed]",
      "text/plain": [
       "<Figure size 432x288 with 1 Axes>"
      ]
     },
     "metadata": {
      "needs_background": "light"
     },
     "output_type": "display_data"
    }
   ],
   "source": [
    "n = 20\n",
    "\n",
    "loc = m\n",
    "scale = np.sqrt(d / n)\n",
    "\n",
    "samples = get_mean_samples_uniform(n)\n",
    "\n",
    "ox = np.linspace(loc - 4 * scale, loc + 4 * scale, 1000)\n",
    "oy = np.array([pdf_normal(loc, scale, x) for x in ox])\n",
    "\n",
    "plt.hist(samples, density=True, bins=20)\n",
    "plt.plot(ox, oy)"
   ]
  },
  {
   "cell_type": "code",
   "execution_count": 114,
   "metadata": {},
   "outputs": [
    {
     "data": {
      "text/plain": [
       "[<matplotlib.lines.Line2D at 0x7f8fcaac36d0>]"
      ]
     },
     "execution_count": 114,
     "metadata": {},
     "output_type": "execute_result"
    },
    {
     "data": {
      "image/png": "[encoded data removed]",
      "text/plain": [
       "<Figure size 432x288 with 1 Axes>"
      ]
     },
     "metadata": {
      "needs_background": "light"
     },
     "output_type": "display_data"
    }
   ],
   "source": [
    "n = 2\n",
    "\n",
    "loc = m\n",
    "scale = np.sqrt(d / n)\n",
    "\n",
    "samples = get_mean_samples_uniform(n)\n",
    "\n",
    "ox = np.linspace(loc - 4 * scale, loc + 4 * scale, 1000)\n",
    "oy = np.array([pdf_normal(loc, scale, x) for x in ox])\n",
    "\n",
    "plt.hist(samples, density=True, bins=20)\n",
    "plt.plot(ox, oy)"
   ]
  }
 ],
 "metadata": {
  "kernelspec": {
   "display_name": "Python 3",
   "language": "python",
   "name": "python3"
  },
  "language_info": {
   "codemirror_mode": {
    "name": "ipython",
    "version": 3
   },
   "file_extension": ".py",
   "mimetype": "text/x-python",
   "name": "python",
   "nbconvert_exporter": "python",
   "pygments_lexer": "ipython3",
   "version": "3.8.3"
  }
 },
 "nbformat": 4,
 "nbformat_minor": 4
}
