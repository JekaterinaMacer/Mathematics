{
  "nbformat": 4,
  "nbformat_minor": 0,
  "metadata": {
    "colab": {
      "name": "Копия 4.1.ipynb",
      "provenance": []
    },
    "language_info": {
      "codemirror_mode": {
        "name": "ipython",
        "version": 3
      },
      "file_extension": ".py",
      "mimetype": "text/x-python",
      "name": "python",
      "nbconvert_exporter": "python",
      "pygments_lexer": "ipython3",
      "version": "3.6.0"
    },
    "kernelspec": {
      "display_name": "Python 3",
      "language": "python",
      "name": "python3"
    }
  },
  "cells": [
    {
      "cell_type": "code",
      "metadata": {
        "id": "Fua95t3FpHHS"
      },
      "source": [
        "%matplotlib inline\n",
        "import numpy as np"
      ],
      "execution_count": null,
      "outputs": []
    },
    {
      "cell_type": "markdown",
      "metadata": {
        "id": "FJay5_3KCFVM"
      },
      "source": [
        ""
      ]
    },
    {
      "cell_type": "code",
      "metadata": {
        "id": "syn9-E9il5BE"
      },
      "source": [
        "# !pip install keyboard"
      ],
      "execution_count": null,
      "outputs": []
    },
    {
      "cell_type": "code",
      "metadata": {
        "id": "kOoSzTLRI6TK"
      },
      "source": [
        ""
      ],
      "execution_count": null,
      "outputs": []
    },
    {
      "cell_type": "code",
      "metadata": {
        "id": "6SIaQxfYpHHe",
        "colab": {
          "base_uri": "https://localhost:8080/"
        },
        "outputId": "a1cddca0-c266-4595-8676-d9de3baafde5"
      },
      "source": [
        "for i in range(0, 5):\n",
        "    a = input()\n",
        "    num = np.random.uniform(0, 36)\n",
        "    print(int(num))\n",
        "    x = np.random.uniform(0, 100)\n",
        "    if num==0:\n",
        "      print(\"green\")\n",
        "    elif x<50:\n",
        "        print(\"red\")\n",
        "    else:\n",
        "        print(\"black\")"
      ],
      "execution_count": null,
      "outputs": [
        {
          "output_type": "stream",
          "text": [
            "0\n",
            "26\n",
            "red\n",
            "0\n",
            "17\n",
            "red\n",
            "0\n",
            "25\n",
            "black\n",
            "0\n",
            "33\n",
            "red\n",
            "0\n",
            "33\n",
            "black\n"
          ],
          "name": "stdout"
        }
      ]
    },
    {
      "cell_type": "code",
      "metadata": {
        "id": "2MXZXNt4pHHj"
      },
      "source": [
        ""
      ],
      "execution_count": null,
      "outputs": []
    }
  ]
}